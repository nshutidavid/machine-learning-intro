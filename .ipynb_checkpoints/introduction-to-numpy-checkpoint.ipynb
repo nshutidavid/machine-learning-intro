{
 "cells": [
  {
   "cell_type": "code",
   "execution_count": 1,
   "id": "d3064b43-ec1c-4b4b-9fca-c112afc3ed45",
   "metadata": {},
   "outputs": [],
   "source": [
    "import numpy as np"
   ]
  },
  {
   "cell_type": "markdown",
   "id": "a544043a-49c8-4524-b912-042978ba60a0",
   "metadata": {},
   "source": [
    "## Datatypes & Attributes"
   ]
  },
  {
   "cell_type": "code",
   "execution_count": 2,
   "id": "16c4cca5-dbb9-4101-91ee-f91c483f1463",
   "metadata": {},
   "outputs": [
    {
     "data": {
      "text/plain": [
       "array([1, 2, 3])"
      ]
     },
     "execution_count": 2,
     "metadata": {},
     "output_type": "execute_result"
    }
   ],
   "source": [
    "#NumPy main datatype is ndarray\n",
    "a1 = np.array([1,2,3])\n",
    "a1"
   ]
  },
  {
   "cell_type": "code",
   "execution_count": 10,
   "id": "84533ca9-392b-4532-af6b-3de1d8437ddc",
   "metadata": {},
   "outputs": [
    {
     "data": {
      "text/plain": [
       "numpy.ndarray"
      ]
     },
     "execution_count": 10,
     "metadata": {},
     "output_type": "execute_result"
    }
   ],
   "source": [
    "type(a1)"
   ]
  },
  {
   "cell_type": "code",
   "execution_count": 11,
   "id": "d0be81f7-153a-4d24-ad10-359919735e15",
   "metadata": {},
   "outputs": [],
   "source": [
    "a2 = np.array([[1,2.0,3.4],\n",
    "               [4,5,6.5]])\n",
    "a3 = np.array([[[1,2,3],\n",
    "                [4,5,6],\n",
    "                [7,8,9]],\n",
    "                [[10,11,12],\n",
    "                [13,14,15],\n",
    "                [16,17,18]]])\n"
   ]
  },
  {
   "cell_type": "code",
   "execution_count": 12,
   "id": "6fbc897c-d4d9-4ca7-887d-14c9c6b3bdbc",
   "metadata": {},
   "outputs": [
    {
     "data": {
      "text/plain": [
       "array([[1. , 2. , 3.4],\n",
       "       [4. , 5. , 6.5]])"
      ]
     },
     "execution_count": 12,
     "metadata": {},
     "output_type": "execute_result"
    }
   ],
   "source": [
    "a2"
   ]
  },
  {
   "cell_type": "code",
   "execution_count": 13,
   "id": "4a88b0d4-0495-444a-a6fe-1adba58d833c",
   "metadata": {},
   "outputs": [
    {
     "data": {
      "text/plain": [
       "array([[[ 1,  2,  3],\n",
       "        [ 4,  5,  6],\n",
       "        [ 7,  8,  9]],\n",
       "\n",
       "       [[10, 11, 12],\n",
       "        [13, 14, 15],\n",
       "        [16, 17, 18]]])"
      ]
     },
     "execution_count": 13,
     "metadata": {},
     "output_type": "execute_result"
    }
   ],
   "source": [
    "a3"
   ]
  },
  {
   "cell_type": "markdown",
   "id": "bafec68d-9a7a-498c-ace1-6a3b371433f9",
   "metadata": {},
   "source": [
    "#Attributes"
   ]
  },
  {
   "cell_type": "code",
   "execution_count": 7,
   "id": "e13410e2-2f33-4583-ad78-9307e023b2ea",
   "metadata": {},
   "outputs": [
    {
     "data": {
      "text/plain": [
       "(3,)"
      ]
     },
     "execution_count": 7,
     "metadata": {},
     "output_type": "execute_result"
    }
   ],
   "source": [
    "# shape attribute\n",
    "a1.shape"
   ]
  },
  {
   "cell_type": "code",
   "execution_count": 8,
   "id": "ec4ab5c7-b655-446d-9891-846cd6315f3b",
   "metadata": {},
   "outputs": [
    {
     "data": {
      "text/plain": [
       "(2, 3)"
      ]
     },
     "execution_count": 8,
     "metadata": {},
     "output_type": "execute_result"
    }
   ],
   "source": [
    "a2.shape"
   ]
  },
  {
   "cell_type": "code",
   "execution_count": 9,
   "id": "c348da7e-3d9e-4463-96c3-5e7e604081a8",
   "metadata": {},
   "outputs": [
    {
     "data": {
      "text/plain": [
       "(2, 3, 3)"
      ]
     },
     "execution_count": 9,
     "metadata": {},
     "output_type": "execute_result"
    }
   ],
   "source": [
    "a3.shape"
   ]
  },
  {
   "cell_type": "code",
   "execution_count": 10,
   "id": "07fdfa63-d95a-48c9-9dc3-023d006cf74c",
   "metadata": {},
   "outputs": [
    {
     "data": {
      "text/plain": [
       "(1, 2, 3)"
      ]
     },
     "execution_count": 10,
     "metadata": {},
     "output_type": "execute_result"
    }
   ],
   "source": [
    "# ndim attribute (number of dimensionals\n",
    "a1.ndim,a2.ndim,a3.ndim"
   ]
  },
  {
   "cell_type": "code",
   "execution_count": 11,
   "id": "61698469-7489-40e1-850b-d93030a22a80",
   "metadata": {},
   "outputs": [
    {
     "data": {
      "text/plain": [
       "(dtype('int64'), dtype('float64'), dtype('int64'))"
      ]
     },
     "execution_count": 11,
     "metadata": {},
     "output_type": "execute_result"
    }
   ],
   "source": [
    "#dtype attribute\n",
    "a1.dtype,a2.dtype,a3.dtype"
   ]
  },
  {
   "cell_type": "code",
   "execution_count": 12,
   "id": "96b91595-447e-4f37-a70b-d33629bddad4",
   "metadata": {},
   "outputs": [
    {
     "data": {
      "text/plain": [
       "(3, 6, 18)"
      ]
     },
     "execution_count": 12,
     "metadata": {},
     "output_type": "execute_result"
    }
   ],
   "source": [
    "# Size attribute (tells how many elements we have in an array\n",
    "a1.size,a2.size,a3.size"
   ]
  },
  {
   "cell_type": "code",
   "execution_count": 13,
   "id": "87ebf237-e7d6-4461-8516-7c6c8f59599a",
   "metadata": {},
   "outputs": [
    {
     "data": {
      "text/plain": [
       "(numpy.ndarray, numpy.ndarray, numpy.ndarray)"
      ]
     },
     "execution_count": 13,
     "metadata": {},
     "output_type": "execute_result"
    }
   ],
   "source": [
    "#Type attribute\n",
    "type(a1),type(a2),type(a3)"
   ]
  },
  {
   "cell_type": "markdown",
   "id": "b7458387-b169-4eb0-9661-1293f0d82401",
   "metadata": {},
   "source": [
    "# create a dataframe for a numpy array"
   ]
  },
  {
   "cell_type": "code",
   "execution_count": 14,
   "id": "95d0a2a2-c402-482e-b51c-612db3689ec3",
   "metadata": {},
   "outputs": [
    {
     "data": {
      "text/plain": [
       "array([[1. , 2. , 3.4],\n",
       "       [4. , 5. , 6.5]])"
      ]
     },
     "execution_count": 14,
     "metadata": {},
     "output_type": "execute_result"
    }
   ],
   "source": [
    "a2"
   ]
  },
  {
   "cell_type": "code",
   "execution_count": 17,
   "id": "4c587da8-116a-42a3-b164-58e2f4b5d1df",
   "metadata": {},
   "outputs": [
    {
     "data": {
      "text/html": [
       "<div>\n",
       "<style scoped>\n",
       "    .dataframe tbody tr th:only-of-type {\n",
       "        vertical-align: middle;\n",
       "    }\n",
       "\n",
       "    .dataframe tbody tr th {\n",
       "        vertical-align: top;\n",
       "    }\n",
       "\n",
       "    .dataframe thead th {\n",
       "        text-align: right;\n",
       "    }\n",
       "</style>\n",
       "<table border=\"1\" class=\"dataframe\">\n",
       "  <thead>\n",
       "    <tr style=\"text-align: right;\">\n",
       "      <th></th>\n",
       "      <th>0</th>\n",
       "      <th>1</th>\n",
       "      <th>2</th>\n",
       "    </tr>\n",
       "  </thead>\n",
       "  <tbody>\n",
       "    <tr>\n",
       "      <th>0</th>\n",
       "      <td>1.0</td>\n",
       "      <td>2.0</td>\n",
       "      <td>3.4</td>\n",
       "    </tr>\n",
       "    <tr>\n",
       "      <th>1</th>\n",
       "      <td>4.0</td>\n",
       "      <td>5.0</td>\n",
       "      <td>6.5</td>\n",
       "    </tr>\n",
       "  </tbody>\n",
       "</table>\n",
       "</div>"
      ],
      "text/plain": [
       "     0    1    2\n",
       "0  1.0  2.0  3.4\n",
       "1  4.0  5.0  6.5"
      ]
     },
     "execution_count": 17,
     "metadata": {},
     "output_type": "execute_result"
    }
   ],
   "source": [
    "import pandas as pd\n",
    "\n",
    "ar=pd.DataFrame(a2)\n",
    "ar"
   ]
  },
  {
   "cell_type": "markdown",
   "id": "2ec1d13f-c8ee-44b7-bd65-0702c6064502",
   "metadata": {},
   "source": [
    "## Creating Arrays"
   ]
  },
  {
   "cell_type": "code",
   "execution_count": 17,
   "id": "7d5addcb-9764-45c6-bc8d-13a83132cb66",
   "metadata": {},
   "outputs": [
    {
     "data": {
      "text/plain": [
       "array([1, 2, 3])"
      ]
     },
     "execution_count": 17,
     "metadata": {},
     "output_type": "execute_result"
    }
   ],
   "source": [
    "sample_array = np.array([1,2,3])\n",
    "sample_array"
   ]
  },
  {
   "cell_type": "code",
   "execution_count": 18,
   "id": "b2554590-4bf3-4873-924c-2f2e9ab86ddb",
   "metadata": {},
   "outputs": [
    {
     "data": {
      "text/plain": [
       "dtype('int64')"
      ]
     },
     "execution_count": 18,
     "metadata": {},
     "output_type": "execute_result"
    }
   ],
   "source": [
    "sample_array.dtype"
   ]
  },
  {
   "cell_type": "code",
   "execution_count": 20,
   "id": "6df93a16-babb-4e82-934a-53f12d0d772a",
   "metadata": {},
   "outputs": [
    {
     "data": {
      "text/plain": [
       "array([[1., 1., 1.],\n",
       "       [1., 1., 1.]])"
      ]
     },
     "execution_count": 20,
     "metadata": {},
     "output_type": "execute_result"
    }
   ],
   "source": [
    "# creating a numpy array that is already filled\n",
    "ones = np.ones((2,3))\n",
    "ones"
   ]
  },
  {
   "cell_type": "code",
   "execution_count": 21,
   "id": "c8ee9210-983b-4bf3-9cdb-0e8ab964b960",
   "metadata": {},
   "outputs": [
    {
     "data": {
      "text/plain": [
       "dtype('float64')"
      ]
     },
     "execution_count": 21,
     "metadata": {},
     "output_type": "execute_result"
    }
   ],
   "source": [
    "ones.dtype"
   ]
  },
  {
   "cell_type": "code",
   "execution_count": 22,
   "id": "9162cf84-9138-481c-9f64-ce35cad5a948",
   "metadata": {},
   "outputs": [
    {
     "data": {
      "text/plain": [
       "numpy.ndarray"
      ]
     },
     "execution_count": 22,
     "metadata": {},
     "output_type": "execute_result"
    }
   ],
   "source": [
    "type(ones)"
   ]
  },
  {
   "cell_type": "code",
   "execution_count": 24,
   "id": "e487f9b0-f6dd-4905-877b-0496db97939f",
   "metadata": {},
   "outputs": [
    {
     "data": {
      "text/plain": [
       "array([[0., 0., 0., 0., 0.],\n",
       "       [0., 0., 0., 0., 0.],\n",
       "       [0., 0., 0., 0., 0.]])"
      ]
     },
     "execution_count": 24,
     "metadata": {},
     "output_type": "execute_result"
    }
   ],
   "source": [
    "zeros = np.zeros((3,5))\n",
    "zeros"
   ]
  },
  {
   "cell_type": "code",
   "execution_count": 25,
   "id": "45423013-d3ea-41d6-b9d1-4ae9ae94bc5e",
   "metadata": {},
   "outputs": [
    {
     "data": {
      "text/plain": [
       "array([0, 2, 4, 6, 8])"
      ]
     },
     "execution_count": 25,
     "metadata": {},
     "output_type": "execute_result"
    }
   ],
   "source": [
    "range_array = np.arange(0,10,2)\n",
    "range_array"
   ]
  },
  {
   "cell_type": "code",
   "execution_count": 31,
   "id": "97dc0de3-81a9-46e2-9059-75b15ba75357",
   "metadata": {},
   "outputs": [
    {
     "data": {
      "text/plain": [
       "array([[3, 5, 2, 9, 4],\n",
       "       [8, 7, 1, 6, 8],\n",
       "       [8, 2, 9, 3, 5]])"
      ]
     },
     "execution_count": 31,
     "metadata": {},
     "output_type": "execute_result"
    }
   ],
   "source": [
    "random_array = np.random.randint(0,10, size=(3,5))\n",
    "random_array"
   ]
  },
  {
   "cell_type": "code",
   "execution_count": 32,
   "id": "600ea1c7-e0b7-45b1-9563-08b13861805e",
   "metadata": {},
   "outputs": [
    {
     "data": {
      "text/plain": [
       "15"
      ]
     },
     "execution_count": 32,
     "metadata": {},
     "output_type": "execute_result"
    }
   ],
   "source": [
    "random_array.size"
   ]
  },
  {
   "cell_type": "code",
   "execution_count": 33,
   "id": "6ae0617d-917a-4f9a-b572-0415a6257e3d",
   "metadata": {},
   "outputs": [
    {
     "data": {
      "text/plain": [
       "(3, 5)"
      ]
     },
     "execution_count": 33,
     "metadata": {},
     "output_type": "execute_result"
    }
   ],
   "source": [
    "random_array.shape"
   ]
  },
  {
   "cell_type": "code",
   "execution_count": 37,
   "id": "5c429436-bd43-486d-a066-69dd13828052",
   "metadata": {},
   "outputs": [
    {
     "data": {
      "text/plain": [
       "array([[0.39562277, 0.76529061, 0.53777875, 0.99766977, 0.82711716],\n",
       "       [0.85304446, 0.10231014, 0.10303021, 0.12039655, 0.21653301],\n",
       "       [0.35202144, 0.7326109 , 0.24183603, 0.42766082, 0.04261074]])"
      ]
     },
     "execution_count": 37,
     "metadata": {},
     "output_type": "execute_result"
    }
   ],
   "source": [
    "random_array_2 = np.random.random((3,5))\n",
    "random_array_2"
   ]
  },
  {
   "cell_type": "code",
   "execution_count": 38,
   "id": "20688dc3-d9d9-48cc-a3b3-8649210045e7",
   "metadata": {},
   "outputs": [
    {
     "data": {
      "text/plain": [
       "(3, 5)"
      ]
     },
     "execution_count": 38,
     "metadata": {},
     "output_type": "execute_result"
    }
   ],
   "source": [
    "random_array_2.shape"
   ]
  },
  {
   "cell_type": "code",
   "execution_count": 40,
   "id": "be7a4762-6f38-4d4d-9ae8-5b2be8d7138d",
   "metadata": {},
   "outputs": [
    {
     "data": {
      "text/plain": [
       "array([[0.41475452, 0.15698842, 0.72595063, 0.49813313, 0.51689302],\n",
       "       [0.20948322, 0.86181554, 0.89197017, 0.80821984, 0.67039924],\n",
       "       [0.36438281, 0.29424155, 0.75629335, 0.60491889, 0.90692615]])"
      ]
     },
     "execution_count": 40,
     "metadata": {},
     "output_type": "execute_result"
    }
   ],
   "source": [
    "random_array_3 = np.random.rand(3,5)\n",
    "random_array_3"
   ]
  },
  {
   "cell_type": "code",
   "execution_count": 47,
   "id": "0418f50b-19b7-46ac-a48f-121475f81c21",
   "metadata": {},
   "outputs": [
    {
     "data": {
      "text/plain": [
       "array([[5, 0, 3],\n",
       "       [3, 7, 9],\n",
       "       [3, 5, 2],\n",
       "       [4, 7, 6],\n",
       "       [8, 8, 1]])"
      ]
     },
     "execution_count": 47,
     "metadata": {},
     "output_type": "execute_result"
    }
   ],
   "source": [
    "# pseudo random number\n",
    "#The np.random.seed() function ensures the random numbers dont change every time you run the code\n",
    "np.random.seed(seed=0)\n",
    "random_array_4 = np.random.randint(10,size=(5,3))\n",
    "random_array_4"
   ]
  },
  {
   "cell_type": "code",
   "execution_count": 56,
   "id": "4364e68a-bf74-46fd-8639-32296a7bca5c",
   "metadata": {},
   "outputs": [
    {
     "data": {
      "text/plain": [
       "array([[0.07630829, 0.77991879, 0.43840923, 0.72346518, 0.97798951],\n",
       "       [0.53849587, 0.50112046, 0.07205113, 0.26843898, 0.4998825 ],\n",
       "       [0.67923   , 0.80373904, 0.38094113, 0.06593635, 0.2881456 ]])"
      ]
     },
     "execution_count": 56,
     "metadata": {},
     "output_type": "execute_result"
    }
   ],
   "source": [
    "np.random.seed(7)\n",
    "random_array_5 = np.random.random((3,5))\n",
    "random_array_5"
   ]
  },
  {
   "cell_type": "markdown",
   "id": "0f128a35-9da5-44d1-9783-6bd6ae48c940",
   "metadata": {},
   "source": [
    "## Viewing arrays and matrices"
   ]
  },
  {
   "cell_type": "code",
   "execution_count": 59,
   "id": "1b0eff42-cfe2-4fb1-ad4d-a01fe64d6ab5",
   "metadata": {},
   "outputs": [
    {
     "data": {
      "text/plain": [
       "array([[5, 0, 3],\n",
       "       [3, 7, 9],\n",
       "       [3, 5, 2],\n",
       "       [4, 7, 6],\n",
       "       [8, 8, 1]])"
      ]
     },
     "execution_count": 59,
     "metadata": {},
     "output_type": "execute_result"
    }
   ],
   "source": [
    "random_array_4"
   ]
  },
  {
   "cell_type": "code",
   "execution_count": 60,
   "id": "d844f157-e7b1-481e-a119-35d4743a8d9a",
   "metadata": {},
   "outputs": [
    {
     "data": {
      "text/plain": [
       "array([0, 1, 2, 3, 4, 5, 6, 7, 8, 9])"
      ]
     },
     "execution_count": 60,
     "metadata": {},
     "output_type": "execute_result"
    }
   ],
   "source": [
    "# Finding  unique elements The np.unique() function returns the sorted unique elements of the input array.\n",
    "np.unique(random_array_4)"
   ]
  },
  {
   "cell_type": "code",
   "execution_count": 67,
   "id": "b7c4567c-97a9-42ad-b3f6-bb48f4fa3b8c",
   "metadata": {},
   "outputs": [
    {
     "data": {
      "text/plain": [
       "array([1, 2, 3])"
      ]
     },
     "execution_count": 67,
     "metadata": {},
     "output_type": "execute_result"
    }
   ],
   "source": [
    "a1\n"
   ]
  },
  {
   "cell_type": "code",
   "execution_count": 68,
   "id": "db74a8c3-3527-4496-b0c0-4a97ab127d01",
   "metadata": {},
   "outputs": [
    {
     "data": {
      "text/plain": [
       "1"
      ]
     },
     "execution_count": 68,
     "metadata": {},
     "output_type": "execute_result"
    }
   ],
   "source": [
    "a1[0]"
   ]
  },
  {
   "cell_type": "code",
   "execution_count": 62,
   "id": "2ad1f306-e817-4620-b8a5-26a029fadaac",
   "metadata": {},
   "outputs": [
    {
     "data": {
      "text/plain": [
       "array([[1. , 2. , 3.4],\n",
       "       [4. , 5. , 6.5]])"
      ]
     },
     "execution_count": 62,
     "metadata": {},
     "output_type": "execute_result"
    }
   ],
   "source": [
    "a2"
   ]
  },
  {
   "cell_type": "code",
   "execution_count": 69,
   "id": "064ae5b6-1282-443b-bb59-4bd8361a0158",
   "metadata": {},
   "outputs": [
    {
     "data": {
      "text/plain": [
       "array([1. , 2. , 3.4])"
      ]
     },
     "execution_count": 69,
     "metadata": {},
     "output_type": "execute_result"
    }
   ],
   "source": [
    "a2[0]"
   ]
  },
  {
   "cell_type": "code",
   "execution_count": 63,
   "id": "df2322e3-ab7e-493b-b034-2509a7a4b493",
   "metadata": {},
   "outputs": [
    {
     "data": {
      "text/plain": [
       "array([[[ 1,  2,  3],\n",
       "        [ 4,  5,  6],\n",
       "        [ 7,  8,  9]],\n",
       "\n",
       "       [[10, 11, 12],\n",
       "        [13, 14, 15],\n",
       "        [16, 17, 18]]])"
      ]
     },
     "execution_count": 63,
     "metadata": {},
     "output_type": "execute_result"
    }
   ],
   "source": [
    "a3"
   ]
  },
  {
   "cell_type": "code",
   "execution_count": 70,
   "id": "4e21ab1b-b822-434c-bcac-7282c4d733dc",
   "metadata": {},
   "outputs": [
    {
     "data": {
      "text/plain": [
       "array([[1, 2, 3],\n",
       "       [4, 5, 6],\n",
       "       [7, 8, 9]])"
      ]
     },
     "execution_count": 70,
     "metadata": {},
     "output_type": "execute_result"
    }
   ],
   "source": [
    "a3[0]"
   ]
  },
  {
   "cell_type": "code",
   "execution_count": 71,
   "id": "14d45e45-a08c-434c-a49e-7293dcfb1866",
   "metadata": {},
   "outputs": [
    {
     "data": {
      "text/plain": [
       "array([[[ 1,  2],\n",
       "        [ 4,  5]],\n",
       "\n",
       "       [[10, 11],\n",
       "        [13, 14]]])"
      ]
     },
     "execution_count": 71,
     "metadata": {},
     "output_type": "execute_result"
    }
   ],
   "source": [
    "a3[:2,:2,:2]\n"
   ]
  },
  {
   "cell_type": "code",
   "execution_count": 73,
   "id": "6ce4402c-39a8-47a7-91b9-da18c7a694ec",
   "metadata": {},
   "outputs": [
    {
     "data": {
      "text/plain": [
       "array([[[[3, 5, 8, 8, 7],\n",
       "         [5, 0, 0, 2, 8],\n",
       "         [9, 6, 4, 9, 7],\n",
       "         [3, 3, 8, 3, 0]],\n",
       "\n",
       "        [[1, 0, 0, 6, 7],\n",
       "         [7, 9, 3, 0, 7],\n",
       "         [7, 7, 0, 5, 4],\n",
       "         [3, 1, 3, 1, 3]],\n",
       "\n",
       "        [[4, 3, 1, 9, 5],\n",
       "         [9, 1, 2, 3, 2],\n",
       "         [2, 5, 7, 3, 0],\n",
       "         [9, 9, 3, 4, 5]]],\n",
       "\n",
       "\n",
       "       [[[3, 0, 4, 8, 6],\n",
       "         [7, 2, 7, 3, 8],\n",
       "         [6, 6, 5, 6, 5],\n",
       "         [7, 1, 5, 4, 4]],\n",
       "\n",
       "        [[9, 9, 0, 6, 2],\n",
       "         [6, 8, 2, 4, 1],\n",
       "         [6, 1, 5, 1, 6],\n",
       "         [9, 8, 6, 5, 9]],\n",
       "\n",
       "        [[7, 5, 4, 9, 6],\n",
       "         [8, 1, 5, 5, 8],\n",
       "         [3, 7, 7, 9, 4],\n",
       "         [7, 5, 9, 6, 2]]]])"
      ]
     },
     "execution_count": 73,
     "metadata": {},
     "output_type": "execute_result"
    }
   ],
   "source": [
    "a4 = np.random.randint(10,size=(2,3,4,5))\n",
    "a4"
   ]
  },
  {
   "cell_type": "code",
   "execution_count": 74,
   "id": "f722ba18-505c-431c-8c2b-5fd1fbb4542d",
   "metadata": {},
   "outputs": [
    {
     "data": {
      "text/plain": [
       "(2, 3, 4, 5)"
      ]
     },
     "execution_count": 74,
     "metadata": {},
     "output_type": "execute_result"
    }
   ],
   "source": [
    "a4.shape"
   ]
  },
  {
   "cell_type": "code",
   "execution_count": 75,
   "id": "a065377f-fc52-4008-8f71-ba6500365eba",
   "metadata": {},
   "outputs": [
    {
     "data": {
      "text/plain": [
       "array([[[[3, 5, 8, 8],\n",
       "         [5, 0, 0, 2],\n",
       "         [9, 6, 4, 9],\n",
       "         [3, 3, 8, 3]],\n",
       "\n",
       "        [[1, 0, 0, 6],\n",
       "         [7, 9, 3, 0],\n",
       "         [7, 7, 0, 5],\n",
       "         [3, 1, 3, 1]],\n",
       "\n",
       "        [[4, 3, 1, 9],\n",
       "         [9, 1, 2, 3],\n",
       "         [2, 5, 7, 3],\n",
       "         [9, 9, 3, 4]]],\n",
       "\n",
       "\n",
       "       [[[3, 0, 4, 8],\n",
       "         [7, 2, 7, 3],\n",
       "         [6, 6, 5, 6],\n",
       "         [7, 1, 5, 4]],\n",
       "\n",
       "        [[9, 9, 0, 6],\n",
       "         [6, 8, 2, 4],\n",
       "         [6, 1, 5, 1],\n",
       "         [9, 8, 6, 5]],\n",
       "\n",
       "        [[7, 5, 4, 9],\n",
       "         [8, 1, 5, 5],\n",
       "         [3, 7, 7, 9],\n",
       "         [7, 5, 9, 6]]]])"
      ]
     },
     "execution_count": 75,
     "metadata": {},
     "output_type": "execute_result"
    }
   ],
   "source": [
    "# get the 4 first numbers of the inner most arrays\n",
    "a4[:,:,:,:4]"
   ]
  },
  {
   "cell_type": "markdown",
   "id": "fca43e51-8fd4-4fcf-bc7d-ebe30f4c0b1b",
   "metadata": {},
   "source": [
    "## Manipulating and comparing arrays"
   ]
  },
  {
   "cell_type": "markdown",
   "id": "59dd2427-d42d-42c9-ad4d-9099e2980e41",
   "metadata": {},
   "source": [
    "# Arithmetic"
   ]
  },
  {
   "cell_type": "code",
   "execution_count": 76,
   "id": "33eba800-2b2d-4c10-a56d-c8631cbdc885",
   "metadata": {},
   "outputs": [
    {
     "data": {
      "text/plain": [
       "array([1, 2, 3])"
      ]
     },
     "execution_count": 76,
     "metadata": {},
     "output_type": "execute_result"
    }
   ],
   "source": [
    "a1"
   ]
  },
  {
   "cell_type": "code",
   "execution_count": 77,
   "id": "71241bee-25ef-4b76-a4aa-0dfcc5d5e6ff",
   "metadata": {},
   "outputs": [
    {
     "data": {
      "text/plain": [
       "array([[1., 1., 1.],\n",
       "       [1., 1., 1.]])"
      ]
     },
     "execution_count": 77,
     "metadata": {},
     "output_type": "execute_result"
    }
   ],
   "source": [
    "ones"
   ]
  },
  {
   "cell_type": "code",
   "execution_count": 78,
   "id": "10927b2b-1e75-455a-bef4-0e5856fc3935",
   "metadata": {},
   "outputs": [
    {
     "data": {
      "text/plain": [
       "array([[2., 3., 4.],\n",
       "       [2., 3., 4.]])"
      ]
     },
     "execution_count": 78,
     "metadata": {},
     "output_type": "execute_result"
    }
   ],
   "source": [
    "a1 + ones"
   ]
  },
  {
   "cell_type": "code",
   "execution_count": 95,
   "id": "d4509dbf-0008-4e64-97d7-18030295f22d",
   "metadata": {},
   "outputs": [
    {
     "data": {
      "text/plain": [
       "array([[2., 3., 4.],\n",
       "       [2., 3., 4.]])"
      ]
     },
     "execution_count": 95,
     "metadata": {},
     "output_type": "execute_result"
    }
   ],
   "source": [
    "np.add(a1 , ones)"
   ]
  },
  {
   "cell_type": "code",
   "execution_count": 79,
   "id": "72649a7c-5655-4e04-b228-5949d94c2f33",
   "metadata": {},
   "outputs": [
    {
     "data": {
      "text/plain": [
       "array([[0., 1., 2.],\n",
       "       [0., 1., 2.]])"
      ]
     },
     "execution_count": 79,
     "metadata": {},
     "output_type": "execute_result"
    }
   ],
   "source": [
    "a1 - ones"
   ]
  },
  {
   "cell_type": "code",
   "execution_count": null,
   "id": "0f184551-516f-44bd-8fa8-c80ee4b077ce",
   "metadata": {},
   "outputs": [],
   "source": []
  },
  {
   "cell_type": "code",
   "execution_count": 80,
   "id": "905205f5-7119-48de-ba04-f9bb32a28ccb",
   "metadata": {},
   "outputs": [
    {
     "data": {
      "text/plain": [
       "array([[1., 2., 3.],\n",
       "       [1., 2., 3.]])"
      ]
     },
     "execution_count": 80,
     "metadata": {},
     "output_type": "execute_result"
    }
   ],
   "source": [
    "a1 * ones"
   ]
  },
  {
   "cell_type": "code",
   "execution_count": 83,
   "id": "c09e6549-11da-4c6d-b2c0-507df28e8e8e",
   "metadata": {},
   "outputs": [
    {
     "data": {
      "text/plain": [
       "array([1, 2, 3])"
      ]
     },
     "execution_count": 83,
     "metadata": {},
     "output_type": "execute_result"
    }
   ],
   "source": [
    "a1"
   ]
  },
  {
   "cell_type": "code",
   "execution_count": 81,
   "id": "33da9639-b7e9-44aa-88dd-9f9d62a7d0c3",
   "metadata": {},
   "outputs": [
    {
     "data": {
      "text/plain": [
       "array([[1. , 2. , 3.4],\n",
       "       [4. , 5. , 6.5]])"
      ]
     },
     "execution_count": 81,
     "metadata": {},
     "output_type": "execute_result"
    }
   ],
   "source": [
    "a2"
   ]
  },
  {
   "cell_type": "code",
   "execution_count": 82,
   "id": "75be6686-e7a8-46c0-bc3f-dcf128566df9",
   "metadata": {},
   "outputs": [
    {
     "data": {
      "text/plain": [
       "array([[ 1. ,  4. , 10.2],\n",
       "       [ 4. , 10. , 19.5]])"
      ]
     },
     "execution_count": 82,
     "metadata": {},
     "output_type": "execute_result"
    }
   ],
   "source": [
    "a1 * a2"
   ]
  },
  {
   "cell_type": "code",
   "execution_count": 85,
   "id": "6ccff28a-7477-4f56-b8ed-54b6ed782c78",
   "metadata": {},
   "outputs": [
    {
     "data": {
      "text/plain": [
       "array([[[ 1,  2,  3],\n",
       "        [ 4,  5,  6],\n",
       "        [ 7,  8,  9]],\n",
       "\n",
       "       [[10, 11, 12],\n",
       "        [13, 14, 15],\n",
       "        [16, 17, 18]]])"
      ]
     },
     "execution_count": 85,
     "metadata": {},
     "output_type": "execute_result"
    }
   ],
   "source": [
    "a3"
   ]
  },
  {
   "cell_type": "code",
   "execution_count": 84,
   "id": "94ac86cc-6f6e-4bd3-ad8e-8fdcd013a039",
   "metadata": {},
   "outputs": [
    {
     "ename": "ValueError",
     "evalue": "operands could not be broadcast together with shapes (2,3) (2,3,3) ",
     "output_type": "error",
     "traceback": [
      "\u001b[0;31m---------------------------------------------------------------------------\u001b[0m",
      "\u001b[0;31mValueError\u001b[0m                                Traceback (most recent call last)",
      "Cell \u001b[0;32mIn[84], line 2\u001b[0m\n\u001b[1;32m      1\u001b[0m \u001b[38;5;66;03m# How can you reshape a2 to be compatible with a3\u001b[39;00m\n\u001b[0;32m----> 2\u001b[0m a2 \u001b[38;5;241m*\u001b[39m a3\n",
      "\u001b[0;31mValueError\u001b[0m: operands could not be broadcast together with shapes (2,3) (2,3,3) "
     ]
    }
   ],
   "source": [
    "# How can you reshape a2 to be compatible with a3\n",
    "a2 * a3"
   ]
  },
  {
   "cell_type": "code",
   "execution_count": null,
   "id": "8dd516c4-1822-4301-9cad-b040a04b8af5",
   "metadata": {},
   "outputs": [],
   "source": []
  },
  {
   "cell_type": "code",
   "execution_count": 18,
   "id": "3a5916cf-1d20-444a-b8cb-61d4c9cef183",
   "metadata": {},
   "outputs": [
    {
     "data": {
      "text/plain": [
       "(2, 3)"
      ]
     },
     "execution_count": 18,
     "metadata": {},
     "output_type": "execute_result"
    }
   ],
   "source": [
    "a2.shape"
   ]
  },
  {
   "cell_type": "code",
   "execution_count": 19,
   "id": "ab5eceaf-bb1f-4d48-96dc-654e3f6aa449",
   "metadata": {},
   "outputs": [
    {
     "data": {
      "text/plain": [
       "(2, 3, 3)"
      ]
     },
     "execution_count": 19,
     "metadata": {},
     "output_type": "execute_result"
    }
   ],
   "source": [
    "a3.shape"
   ]
  },
  {
   "cell_type": "code",
   "execution_count": null,
   "id": "249adacf-9e7c-4c1a-b4d2-c6b2552ddce7",
   "metadata": {},
   "outputs": [],
   "source": [
    "a"
   ]
  },
  {
   "cell_type": "code",
   "execution_count": 87,
   "id": "8ceb3ae4-fe58-4bc4-b4c8-0e2abf116b1d",
   "metadata": {},
   "outputs": [
    {
     "data": {
      "text/plain": [
       "(2, 3)"
      ]
     },
     "execution_count": 87,
     "metadata": {},
     "output_type": "execute_result"
    }
   ],
   "source": [
    "a2.shape"
   ]
  },
  {
   "cell_type": "code",
   "execution_count": 88,
   "id": "c18275a1-d912-4729-ad18-fb3741ad12b5",
   "metadata": {},
   "outputs": [
    {
     "data": {
      "text/plain": [
       "(2, 3, 3)"
      ]
     },
     "execution_count": 88,
     "metadata": {},
     "output_type": "execute_result"
    }
   ],
   "source": [
    "a3.shape"
   ]
  },
  {
   "cell_type": "code",
   "execution_count": 20,
   "id": "5d48d7f8-a39f-4a91-a38e-c3123cfc1dae",
   "metadata": {},
   "outputs": [
    {
     "data": {
      "text/plain": [
       "array([[[1. ],\n",
       "        [2. ],\n",
       "        [3.4]],\n",
       "\n",
       "       [[4. ],\n",
       "        [5. ],\n",
       "        [6.5]]])"
      ]
     },
     "execution_count": 20,
     "metadata": {},
     "output_type": "execute_result"
    }
   ],
   "source": [
    "new_a2 = a2.reshape(2,3,1)\n",
    "new_a2"
   ]
  },
  {
   "cell_type": "markdown",
   "id": "2ba7d962-6d10-4483-a1ca-036a2c3b0a44",
   "metadata": {},
   "source": []
  },
  {
   "cell_type": "code",
   "execution_count": 22,
   "id": "fdcf95be-ce85-493b-8b23-4ae6bbf40a09",
   "metadata": {},
   "outputs": [
    {
     "data": {
      "text/plain": [
       "array([[[  1. ,   2. ,   3. ],\n",
       "        [  8. ,  10. ,  12. ],\n",
       "        [ 23.8,  27.2,  30.6]],\n",
       "\n",
       "       [[ 40. ,  44. ,  48. ],\n",
       "        [ 65. ,  70. ,  75. ],\n",
       "        [104. , 110.5, 117. ]]])"
      ]
     },
     "execution_count": 22,
     "metadata": {},
     "output_type": "execute_result"
    }
   ],
   "source": [
    "a3 * new_a2"
   ]
  },
  {
   "cell_type": "code",
   "execution_count": 92,
   "id": "bb826a25-707e-428c-bde3-e151d7b75b0f",
   "metadata": {},
   "outputs": [
    {
     "data": {
      "text/plain": [
       "array([[1.        , 1.        , 1.13333333],\n",
       "       [4.        , 2.5       , 2.16666667]])"
      ]
     },
     "execution_count": 92,
     "metadata": {},
     "output_type": "execute_result"
    }
   ],
   "source": [
    "a2 / a1"
   ]
  },
  {
   "cell_type": "code",
   "execution_count": 93,
   "id": "85ba291a-7899-443d-ae18-383f899ae8a8",
   "metadata": {},
   "outputs": [
    {
     "data": {
      "text/plain": [
       "array([[1., 1., 1.],\n",
       "       [4., 2., 2.]])"
      ]
     },
     "execution_count": 93,
     "metadata": {},
     "output_type": "execute_result"
    }
   ],
   "source": [
    "a2 // a1"
   ]
  },
  {
   "cell_type": "code",
   "execution_count": 94,
   "id": "9a19928c-8d50-47e4-ac85-c62090bc25c4",
   "metadata": {},
   "outputs": [
    {
     "data": {
      "text/plain": [
       "array([[ 1.  ,  4.  , 11.56],\n",
       "       [16.  , 25.  , 42.25]])"
      ]
     },
     "execution_count": 94,
     "metadata": {},
     "output_type": "execute_result"
    }
   ],
   "source": [
    "a2 ** 2"
   ]
  },
  {
   "cell_type": "code",
   "execution_count": 96,
   "id": "02d0a2be-83d2-48f2-accb-8c1630e66f0c",
   "metadata": {},
   "outputs": [
    {
     "data": {
      "text/plain": [
       "array([[1. , 0. , 1.4],\n",
       "       [0. , 1. , 0.5]])"
      ]
     },
     "execution_count": 96,
     "metadata": {},
     "output_type": "execute_result"
    }
   ],
   "source": [
    "a2 % 2"
   ]
  },
  {
   "cell_type": "code",
   "execution_count": 97,
   "id": "25a1f3ca-335b-4744-a7cd-bc4723e69d3b",
   "metadata": {},
   "outputs": [
    {
     "data": {
      "text/plain": [
       "array([[  2.71828183,   7.3890561 ,  29.96410005],\n",
       "       [ 54.59815003, 148.4131591 , 665.14163304]])"
      ]
     },
     "execution_count": 97,
     "metadata": {},
     "output_type": "execute_result"
    }
   ],
   "source": [
    "np.exp(a2)"
   ]
  },
  {
   "cell_type": "code",
   "execution_count": 98,
   "id": "c97e9664-74d1-4901-95a7-1efa25bc26a3",
   "metadata": {},
   "outputs": [
    {
     "data": {
      "text/plain": [
       "array([[0.        , 0.69314718, 1.22377543],\n",
       "       [1.38629436, 1.60943791, 1.87180218]])"
      ]
     },
     "execution_count": 98,
     "metadata": {},
     "output_type": "execute_result"
    }
   ],
   "source": [
    "np.log(a2)"
   ]
  },
  {
   "cell_type": "markdown",
   "id": "31fe4014-12ac-4e32-a526-c240b631d2ec",
   "metadata": {},
   "source": [
    "## aggregation\n",
    "aggregation = perfoming the same operation on a number of things"
   ]
  },
  {
   "cell_type": "code",
   "execution_count": 8,
   "id": "704cef30-a696-44c2-8867-d88dd02d0617",
   "metadata": {},
   "outputs": [
    {
     "data": {
      "text/plain": [
       "list"
      ]
     },
     "execution_count": 8,
     "metadata": {},
     "output_type": "execute_result"
    }
   ],
   "source": [
    "listy_list = [1,2,3]\n",
    "type(listy_list)"
   ]
  },
  {
   "cell_type": "code",
   "execution_count": 9,
   "id": "7d6d4f37-e90a-4691-aa29-8ca950721305",
   "metadata": {},
   "outputs": [
    {
     "data": {
      "text/plain": [
       "6"
      ]
     },
     "execution_count": 9,
     "metadata": {},
     "output_type": "execute_result"
    }
   ],
   "source": [
    "sum(listy_list)"
   ]
  },
  {
   "cell_type": "code",
   "execution_count": 10,
   "id": "16ebd9ba-46ee-4f4c-8e99-4ea877295d53",
   "metadata": {},
   "outputs": [
    {
     "data": {
      "text/plain": [
       "array([1, 2, 3])"
      ]
     },
     "execution_count": 10,
     "metadata": {},
     "output_type": "execute_result"
    }
   ],
   "source": [
    "a1"
   ]
  },
  {
   "cell_type": "code",
   "execution_count": 11,
   "id": "34bb05c7-5421-452b-98a5-2b0d4ef8a0b5",
   "metadata": {},
   "outputs": [
    {
     "data": {
      "text/plain": [
       "numpy.ndarray"
      ]
     },
     "execution_count": 11,
     "metadata": {},
     "output_type": "execute_result"
    }
   ],
   "source": [
    "type(a1)"
   ]
  },
  {
   "cell_type": "code",
   "execution_count": 12,
   "id": "2ffbab0e-ec65-4fd1-99e2-064425035528",
   "metadata": {},
   "outputs": [
    {
     "data": {
      "text/plain": [
       "6"
      ]
     },
     "execution_count": 12,
     "metadata": {},
     "output_type": "execute_result"
    }
   ],
   "source": [
    "sum(a1)"
   ]
  },
  {
   "cell_type": "code",
   "execution_count": 13,
   "id": "b9f0931e-c988-4cb9-96e5-c6da83e00713",
   "metadata": {},
   "outputs": [
    {
     "data": {
      "text/plain": [
       "6"
      ]
     },
     "execution_count": 13,
     "metadata": {},
     "output_type": "execute_result"
    }
   ],
   "source": [
    "np.sum(a1)"
   ]
  },
  {
   "cell_type": "markdown",
   "id": "6b547910-4b3a-41aa-a627-465116551828",
   "metadata": {},
   "source": [
    "use python's methods `sum()` on python datatype and Numpy methods `np.sum()` on NumPy arrays"
   ]
  },
  {
   "cell_type": "code",
   "execution_count": 14,
   "id": "7f175fd8-08d9-4f70-a5cd-5d205c3cd51f",
   "metadata": {},
   "outputs": [
    {
     "data": {
      "text/plain": [
       "1000"
      ]
     },
     "execution_count": 14,
     "metadata": {},
     "output_type": "execute_result"
    }
   ],
   "source": [
    "# Create a massive array\n",
    "massive_array = np.random.random(1000)\n",
    "massive_array.size"
   ]
  },
  {
   "cell_type": "code",
   "execution_count": 15,
   "id": "7d9289f6-57fa-45c9-8543-9364560db8ae",
   "metadata": {},
   "outputs": [
    {
     "data": {
      "text/plain": [
       "array([9.01662967e-01, 7.73799400e-02, 4.16194586e-01, 6.56513735e-01,\n",
       "       5.85425659e-01, 5.50544722e-01, 5.34745827e-01, 6.56375695e-01,\n",
       "       1.85812531e-01, 6.62464250e-01, 9.93246587e-01, 9.08643564e-01,\n",
       "       7.81050787e-01, 3.21428931e-01, 8.62279244e-01, 4.23388981e-01,\n",
       "       1.22768137e-01, 6.49385114e-01, 7.44979794e-01, 5.15242453e-01,\n",
       "       5.46886652e-01, 6.77452941e-01, 4.37714957e-01, 8.06036849e-01,\n",
       "       7.09015475e-01, 6.40220912e-01, 8.16593199e-01, 9.56638453e-01,\n",
       "       9.90004213e-01, 8.34726688e-01, 4.55502847e-01, 5.74803492e-02,\n",
       "       8.10724240e-01, 9.68093956e-01, 6.79004989e-01, 7.58851618e-02,\n",
       "       2.26351478e-01, 3.52922153e-03, 5.89151734e-01, 2.67889858e-01,\n",
       "       4.10831237e-01, 7.87621671e-01, 1.38773064e-01, 9.64095992e-01,\n",
       "       7.99433341e-01, 3.40137848e-01, 7.28957524e-01, 5.15553697e-01,\n",
       "       6.64237688e-02, 1.80643317e-01, 3.78609835e-01, 1.66922077e-01,\n",
       "       6.94403374e-01, 5.00606297e-01, 7.37559083e-01, 2.85022303e-02,\n",
       "       3.51479433e-02, 2.66116302e-01, 2.47388823e-01, 2.29655273e-01,\n",
       "       1.62549598e-01, 6.98457935e-01, 6.71224541e-01, 7.52674755e-02,\n",
       "       2.77225992e-02, 1.34960323e-02, 2.55884102e-01, 3.56613892e-02,\n",
       "       8.88314147e-01, 2.41767789e-01, 2.10728154e-01, 1.17821060e-01,\n",
       "       1.65688306e-01, 4.80327282e-01, 5.86108520e-01, 9.02011686e-01,\n",
       "       3.06020166e-01, 7.28787719e-01, 2.55682604e-01, 5.41575247e-02,\n",
       "       6.90186190e-01, 8.12556616e-01, 9.55569557e-01, 5.00991851e-01,\n",
       "       2.34914990e-01, 3.27368620e-01, 8.13897973e-01, 1.10706893e-01,\n",
       "       2.65191188e-01, 4.40825819e-01, 7.50720361e-01, 4.81103987e-01,\n",
       "       5.65432418e-01, 7.49209926e-01, 4.41821273e-01, 4.07924510e-01,\n",
       "       9.90208573e-01, 7.67960720e-01, 7.92536419e-01, 6.82871580e-01,\n",
       "       4.13079513e-01, 8.60444724e-01, 4.51870675e-02, 4.89708579e-03,\n",
       "       4.58342434e-01, 7.62856837e-02, 3.51256148e-01, 4.35894079e-01,\n",
       "       3.61529373e-01, 4.74440942e-01, 3.03162921e-01, 3.12843175e-01,\n",
       "       3.82512162e-01, 1.61352858e-01, 5.77847831e-01, 2.25136013e-01,\n",
       "       9.91884906e-01, 9.67804929e-01, 6.49650445e-01, 2.27481296e-01,\n",
       "       5.58080751e-01, 6.07337294e-01, 3.26916861e-01, 4.20147653e-01,\n",
       "       7.71947625e-01, 2.75946790e-01, 2.14389655e-01, 5.37712992e-01,\n",
       "       6.39758325e-01, 4.36634878e-01, 2.13133006e-01, 3.87401300e-01,\n",
       "       8.31375321e-01, 7.04669262e-01, 3.85841041e-01, 9.21207266e-01,\n",
       "       3.60731271e-01, 7.44676709e-01, 5.44813204e-01, 3.95076106e-01,\n",
       "       2.02021588e-01, 4.66129880e-03, 2.26024490e-01, 9.58389637e-01,\n",
       "       8.41846347e-01, 8.38479764e-01, 2.37199613e-01, 3.33567602e-03,\n",
       "       6.85936920e-01, 5.23453471e-01, 7.15122759e-01, 8.10303065e-01,\n",
       "       4.20900293e-01, 5.90018575e-01, 6.22605857e-01, 7.81733301e-01,\n",
       "       6.32347766e-02, 3.56895014e-01, 8.83406909e-02, 4.25745931e-01,\n",
       "       3.88522291e-01, 5.28046893e-01, 4.93525993e-01, 5.50971590e-01,\n",
       "       4.94199898e-01, 6.80537432e-01, 7.72153644e-02, 7.55112993e-01,\n",
       "       9.32267809e-01, 2.05077370e-02, 4.31182322e-01, 8.29506873e-01,\n",
       "       8.22773842e-01, 6.26030676e-01, 5.03075038e-01, 6.55754685e-01,\n",
       "       9.54355526e-01, 5.59713097e-01, 8.34580422e-01, 9.43746750e-01,\n",
       "       3.23490366e-04, 3.06991683e-01, 9.69806886e-01, 1.78365763e-01,\n",
       "       6.29964101e-01, 2.92714592e-01, 1.71498592e-01, 5.36958986e-01,\n",
       "       4.90066643e-01, 6.36175973e-01, 7.94623346e-01, 4.76690233e-01,\n",
       "       6.09957628e-01, 1.64968223e-01, 2.35656091e-01, 9.91982352e-01,\n",
       "       4.63111143e-01, 2.53288046e-01, 7.88756388e-01, 9.07694413e-01,\n",
       "       6.77920823e-01, 9.96038048e-01, 2.88583934e-01, 3.29003436e-01,\n",
       "       7.36958748e-01, 3.91948235e-01, 2.59213624e-01, 1.34816807e-01,\n",
       "       4.94901951e-01, 1.20591461e-01, 7.52732897e-01, 8.45062619e-01,\n",
       "       9.78061784e-02, 6.85975127e-02, 2.78376753e-01, 6.23366821e-01,\n",
       "       9.05341875e-01, 1.87284079e-01, 6.27524504e-01, 2.04116717e-01,\n",
       "       1.20024507e-01, 2.95008368e-01, 1.86088130e-01, 5.42478037e-01,\n",
       "       2.43723729e-01, 9.40239475e-01, 4.16694479e-01, 4.60908498e-01,\n",
       "       6.50894027e-01, 5.08493323e-01, 6.22321269e-01, 7.28661167e-01,\n",
       "       2.34839338e-02, 4.43465745e-01, 7.59292757e-01, 2.96275216e-03,\n",
       "       3.99593191e-01, 2.40722581e-02, 2.02119358e-01, 3.34156768e-01,\n",
       "       5.45489496e-01, 2.78211786e-01, 2.44736787e-01, 1.58737537e-01,\n",
       "       1.26566280e-03, 6.84479460e-01, 5.17243852e-01, 6.23548812e-01,\n",
       "       9.43706945e-01, 4.67777120e-04, 3.03131413e-01, 1.02445922e-01,\n",
       "       3.77623983e-01, 3.32668746e-01, 9.71241594e-01, 4.17232950e-01,\n",
       "       3.40433264e-01, 1.38963925e-01, 2.01501610e-01, 1.42601652e-01,\n",
       "       4.12374584e-01, 2.54609010e-01, 2.83547147e-01, 5.08710065e-01,\n",
       "       5.04988007e-01, 3.88517791e-01, 5.24172612e-01, 2.48077729e-01,\n",
       "       2.91120990e-01, 5.53377174e-01, 1.74291766e-01, 4.22496532e-01,\n",
       "       4.55976398e-01, 2.66427801e-01, 9.56368812e-01, 2.44537150e-01,\n",
       "       8.64119031e-01, 9.64489251e-01, 2.54353509e-01, 7.20166134e-01,\n",
       "       1.81130874e-01, 3.44343902e-01, 2.32981903e-01, 2.38027185e-01,\n",
       "       7.38915166e-01, 5.42831880e-01, 5.01699943e-02, 3.17720867e-01,\n",
       "       1.68767227e-02, 9.76556880e-01, 9.32247315e-01, 5.77289025e-01,\n",
       "       4.91136988e-01, 5.29518790e-01, 9.73306351e-01, 7.35852656e-01,\n",
       "       3.06578850e-01, 7.83785661e-01, 5.40825091e-01, 3.28049942e-01,\n",
       "       8.09952159e-01, 2.93454246e-01, 7.01493753e-01, 8.12268387e-01,\n",
       "       9.54194388e-01, 8.11106620e-01, 7.37429414e-01, 4.86514695e-01,\n",
       "       8.27721285e-02, 5.35320185e-01, 3.51404868e-01, 4.42553641e-01,\n",
       "       3.32330608e-01, 9.91374400e-01, 4.38713036e-01, 2.48886141e-02,\n",
       "       8.47674144e-01, 2.95210547e-01, 1.43484795e-02, 7.35840735e-01,\n",
       "       5.46407395e-01, 7.52400239e-01, 3.43505162e-01, 3.19264804e-02,\n",
       "       8.45719591e-01, 9.88443376e-01, 8.47789879e-01, 2.41685203e-01,\n",
       "       7.98700210e-01, 7.35926602e-01, 9.69677966e-01, 6.16736973e-01,\n",
       "       9.06133815e-01, 4.10740336e-01, 4.03442485e-01, 9.27468366e-01,\n",
       "       5.07111695e-02, 2.72378339e-01, 4.00885583e-01, 9.48469919e-01,\n",
       "       1.57359237e-01, 8.76503469e-01, 1.46771561e-02, 2.38240391e-01,\n",
       "       1.76597564e-01, 3.87084120e-01, 2.57450936e-01, 7.70791258e-01,\n",
       "       5.34286028e-01, 9.36493107e-02, 5.21842292e-01, 4.26969859e-01,\n",
       "       9.04719305e-01, 2.37898099e-02, 9.96897795e-01, 1.57989370e-01,\n",
       "       8.82380129e-01, 7.74678894e-01, 1.55072144e-01, 9.11032588e-01,\n",
       "       2.43513510e-01, 6.04494409e-01, 2.03166154e-01, 6.35199338e-02,\n",
       "       1.13566161e-01, 2.05030023e-01, 7.78369210e-01, 9.39112787e-01,\n",
       "       8.51592518e-01, 3.33770245e-01, 9.07158673e-01, 3.00145821e-01,\n",
       "       8.82252367e-01, 9.19125054e-01, 7.74605856e-01, 8.48377085e-01,\n",
       "       3.68048356e-01, 3.67746553e-01, 5.40148219e-01, 6.54738700e-01,\n",
       "       3.76394087e-01, 4.98556402e-02, 4.99084373e-01, 5.67904506e-01,\n",
       "       2.94774709e-01, 2.01605401e-01, 4.51678662e-01, 9.44747875e-01,\n",
       "       7.65566446e-01, 2.11932935e-01, 7.70231764e-01, 5.71251009e-01,\n",
       "       8.82632518e-01, 4.74698278e-01, 6.44422188e-01, 8.56243387e-01,\n",
       "       7.11041778e-01, 8.00480757e-01, 4.79724303e-01, 7.82732944e-01,\n",
       "       6.94268686e-01, 9.04452494e-03, 3.29382185e-02, 1.81863616e-01,\n",
       "       3.86355171e-01, 2.70281096e-01, 8.71826586e-02, 9.78577277e-01,\n",
       "       9.77502788e-01, 3.40671060e-01, 2.69388931e-01, 6.58937550e-01,\n",
       "       1.20911636e-01, 1.36787141e-02, 7.15565975e-01, 1.37542047e-01,\n",
       "       7.34154635e-01, 6.57511597e-01, 9.23259031e-01, 6.57669811e-01,\n",
       "       6.57109704e-01, 9.52573155e-01, 2.27746928e-01, 4.13528401e-01,\n",
       "       6.19166800e-02, 3.39369181e-01, 4.70897241e-01, 6.93461032e-01,\n",
       "       5.59692911e-01, 6.25132544e-01, 7.76591685e-01, 9.48646833e-01,\n",
       "       8.09237532e-01, 8.04680280e-01, 7.28646517e-01, 4.75314520e-01,\n",
       "       5.34170464e-01, 1.10876438e-01, 9.94870434e-01, 3.73103919e-01,\n",
       "       7.74981965e-01, 4.53820694e-01, 4.50873392e-01, 7.54730500e-01,\n",
       "       1.12336965e-02, 2.17949594e-01, 1.73298037e-01, 1.67574170e-01,\n",
       "       3.21851405e-01, 4.51309343e-01, 6.19862580e-01, 3.94334087e-01,\n",
       "       8.95770457e-01, 7.17058457e-01, 5.56878684e-01, 8.20930117e-01,\n",
       "       7.53590896e-01, 4.49001078e-02, 6.13638471e-02, 7.89895995e-01,\n",
       "       5.85044963e-01, 1.38476145e-01, 3.80158686e-01, 7.82570840e-01,\n",
       "       2.76541994e-01, 5.69354887e-01, 1.37074494e-01, 6.04910999e-01,\n",
       "       3.26895969e-01, 2.42191229e-02, 1.28126599e-02, 3.36485161e-01,\n",
       "       9.65136649e-01, 4.61662465e-01, 3.16760788e-01, 4.27303971e-01,\n",
       "       1.63465887e-01, 4.05369158e-01, 7.98559321e-02, 8.81727761e-01,\n",
       "       8.49120454e-02, 8.23421739e-01, 2.03146370e-01, 1.87121356e-01,\n",
       "       5.82092402e-01, 1.75340387e-01, 6.90468063e-01, 5.00256574e-01,\n",
       "       3.23827460e-01, 3.26283280e-01, 2.93126103e-01, 4.72225868e-01,\n",
       "       1.97101315e-01, 8.83436765e-01, 2.46035417e-01, 5.23609842e-01,\n",
       "       2.78945527e-01, 7.74851513e-01, 2.36600651e-01, 3.25156500e-01,\n",
       "       5.50434531e-01, 8.73969963e-01, 6.71738152e-01, 3.72714071e-01,\n",
       "       6.25122201e-01, 9.30666516e-01, 9.44537674e-02, 4.37226725e-02,\n",
       "       1.42637083e-01, 2.08405363e-01, 2.19798293e-01, 4.46175505e-01,\n",
       "       6.39138510e-01, 9.46756106e-02, 6.10066831e-01, 6.30954295e-01,\n",
       "       9.92439876e-01, 3.49304725e-01, 4.75334330e-01, 4.46369566e-02,\n",
       "       3.89815631e-01, 3.97851861e-01, 6.56450651e-01, 7.43172430e-02,\n",
       "       4.20364399e-01, 7.77266478e-01, 1.13468726e-01, 2.28562074e-01,\n",
       "       5.58909959e-01, 9.51374082e-01, 3.35273116e-01, 9.55301968e-01,\n",
       "       9.44870604e-01, 1.35463674e-01, 1.03746772e-01, 8.03295305e-01,\n",
       "       2.90973367e-01, 7.49712317e-01, 8.33775425e-01, 3.49163393e-01,\n",
       "       6.81234963e-01, 3.35990977e-02, 8.98975809e-01, 9.42301097e-01,\n",
       "       1.67920125e-01, 2.80167794e-01, 2.10201555e-03, 4.44486013e-01,\n",
       "       2.40399689e-01, 3.33357872e-01, 8.75142804e-01, 2.61640238e-01,\n",
       "       3.70426454e-01, 9.13188062e-01, 5.30122857e-01, 2.28682939e-01,\n",
       "       5.74021436e-01, 7.97727220e-01, 3.78721123e-01, 4.88778638e-02,\n",
       "       9.42215631e-02, 9.62069348e-01, 7.25506126e-01, 6.98855344e-01,\n",
       "       8.42134510e-01, 1.40452216e-01, 5.50677009e-01, 4.38655897e-01,\n",
       "       7.67448876e-01, 1.95047483e-01, 6.93173317e-01, 7.40000993e-01,\n",
       "       8.02740605e-01, 7.16828059e-01, 2.81972353e-01, 3.94394878e-01,\n",
       "       1.21946419e-01, 1.38783955e-01, 7.27641055e-01, 1.05414419e-01,\n",
       "       7.41402954e-01, 8.78183047e-01, 8.35873299e-01, 8.99286079e-01,\n",
       "       8.96255651e-02, 9.95598978e-01, 4.96580729e-01, 5.39097527e-01,\n",
       "       8.95482765e-01, 2.99881649e-01, 7.34300273e-02, 6.02714285e-01,\n",
       "       7.69953417e-01, 5.68045014e-01, 1.78671290e-01, 9.34963031e-01,\n",
       "       2.75165717e-01, 4.24295558e-01, 7.54020878e-01, 5.09296883e-01,\n",
       "       6.42736753e-02, 7.21604043e-01, 4.95501103e-01, 5.48724063e-01,\n",
       "       9.29509851e-01, 3.73615749e-01, 8.11503216e-01, 3.96997726e-01,\n",
       "       1.83978554e-01, 5.44161926e-01, 7.89774296e-01, 8.51292458e-01,\n",
       "       4.69075764e-01, 5.71174156e-01, 9.57480105e-01, 5.16430598e-01,\n",
       "       3.60120916e-02, 5.73240508e-01, 1.45238472e-01, 9.88852065e-01,\n",
       "       6.97983361e-01, 1.96983451e-01, 5.12976245e-01, 2.83354272e-01,\n",
       "       4.83631126e-01, 1.74267456e-01, 1.57700488e-01, 7.18639396e-01,\n",
       "       8.03834294e-01, 7.84775311e-01, 3.43361461e-01, 6.87864669e-02,\n",
       "       7.49337512e-01, 4.37520340e-01, 3.27325572e-01, 5.02032513e-01,\n",
       "       1.87129950e-01, 5.01228748e-01, 2.93015082e-01, 1.07394414e-01,\n",
       "       5.57167557e-01, 4.59238027e-01, 7.29674950e-01, 1.56708405e-01,\n",
       "       5.56805477e-01, 5.64932387e-01, 8.24268906e-01, 9.85905687e-01,\n",
       "       7.68565145e-02, 8.06697744e-01, 6.43963504e-01, 2.01441062e-01,\n",
       "       4.91460913e-02, 5.79635568e-01, 6.14509320e-01, 8.65252811e-01,\n",
       "       5.44188226e-01, 6.99148845e-01, 7.09752556e-01, 6.34466231e-01,\n",
       "       1.10201075e-01, 4.42211219e-01, 1.70417741e-01, 4.67110205e-01,\n",
       "       7.61224898e-01, 2.63390730e-01, 8.68536807e-01, 3.62704101e-01,\n",
       "       8.73797057e-01, 4.19961528e-01, 9.43790442e-01, 2.43589969e-01,\n",
       "       4.01600681e-02, 6.66081260e-01, 5.98592526e-01, 5.52454650e-01,\n",
       "       2.43136230e-01, 7.96781889e-01, 3.72107269e-01, 3.05298719e-01,\n",
       "       2.43691398e-01, 8.96182696e-01, 8.87494366e-01, 7.93024875e-01,\n",
       "       9.42796887e-01, 2.63931630e-01, 5.87583908e-01, 5.07395188e-01,\n",
       "       4.71305805e-01, 5.95330377e-01, 9.41686188e-03, 7.95476972e-01,\n",
       "       3.42533813e-01, 8.66145991e-01, 7.28791498e-01, 4.06758851e-01,\n",
       "       9.66552184e-01, 6.81466968e-01, 4.76314240e-01, 5.48514434e-01,\n",
       "       9.79492585e-01, 4.18547985e-01, 4.98677299e-01, 9.95736612e-01,\n",
       "       2.11203883e-03, 1.26161849e-01, 9.80116394e-01, 7.19648397e-02,\n",
       "       5.51166696e-01, 9.77451297e-01, 8.62420346e-01, 1.42832070e-02,\n",
       "       8.66150979e-01, 1.39761930e-01, 4.97903496e-01, 7.87924407e-01,\n",
       "       5.55335170e-01, 5.26591875e-01, 9.04049302e-01, 6.38810862e-01,\n",
       "       8.88376977e-01, 8.53300463e-01, 1.07003515e-01, 3.76264372e-01,\n",
       "       8.54247097e-01, 7.09688523e-01, 6.21744503e-01, 6.06810020e-01,\n",
       "       5.75731782e-01, 4.36016686e-01, 1.93585108e-01, 1.73330750e-01,\n",
       "       1.86918278e-01, 3.05841273e-01, 9.82349596e-01, 5.81555661e-02,\n",
       "       8.30699600e-01, 2.47693635e-01, 1.47037228e-01, 6.25122658e-01,\n",
       "       3.53572686e-01, 9.74858919e-01, 4.65283849e-01, 9.32428159e-01,\n",
       "       9.17574332e-01, 6.69094535e-01, 7.45487539e-01, 1.70809981e-01,\n",
       "       1.91742984e-01, 8.83914379e-01, 1.18904710e-01, 6.80773511e-01,\n",
       "       1.18920941e-01, 3.37481807e-01, 6.83000460e-01, 7.67169934e-01,\n",
       "       2.86097561e-02, 8.49446230e-01, 8.86630133e-02, 9.63493055e-01,\n",
       "       3.72264333e-01, 5.99273335e-01, 1.05816545e-01, 6.65728054e-01,\n",
       "       8.67797176e-01, 1.77055672e-01, 3.44711686e-01, 1.87141911e-01,\n",
       "       5.00026287e-01, 2.46695849e-01, 2.03571143e-01, 7.79239796e-01,\n",
       "       1.38559092e-01, 5.07083204e-01, 3.17310098e-02, 4.85207261e-01,\n",
       "       2.24201028e-01, 3.70035200e-01, 5.97680854e-01, 1.04958588e-01,\n",
       "       8.14727685e-01, 8.70779369e-01, 2.09611205e-01, 9.06514907e-01,\n",
       "       4.89061359e-01, 2.69389853e-02, 6.64260772e-01, 4.94195618e-01,\n",
       "       3.60590903e-01, 8.69034478e-01, 5.53095231e-01, 8.92099627e-01,\n",
       "       5.34762860e-01, 8.72224657e-01, 4.47001785e-01, 4.29362375e-01,\n",
       "       9.88940897e-01, 3.20234232e-01, 1.48310471e-01, 4.11112823e-01,\n",
       "       8.45990550e-01, 8.88162661e-01, 2.54056560e-01, 4.83161601e-02,\n",
       "       5.27094690e-01, 5.82187278e-01, 9.03690382e-01, 7.28795776e-01,\n",
       "       4.80204363e-01, 7.62832708e-01, 4.91229360e-01, 8.05524353e-01,\n",
       "       2.60679359e-01, 8.31078313e-01, 5.47134561e-01, 8.52086046e-01,\n",
       "       8.15012018e-01, 1.13502418e-01, 8.91136633e-01, 3.38428604e-01,\n",
       "       3.59135466e-01, 1.97995409e-01, 6.26867162e-01, 3.23838472e-01,\n",
       "       6.02128052e-01, 9.13004898e-01, 5.88881772e-01, 4.80956638e-01,\n",
       "       8.48200479e-02, 5.69860545e-01, 8.20215073e-02, 1.32630148e-01,\n",
       "       1.71917222e-01, 7.87471673e-01, 5.29018720e-01, 9.66460776e-01,\n",
       "       4.95844586e-01, 3.37397624e-01, 8.63486901e-01, 6.06128473e-01,\n",
       "       8.70977265e-01, 5.74797166e-01, 9.77388821e-01, 1.42225643e-01,\n",
       "       8.65845004e-01, 7.89154001e-01, 9.50193096e-01, 7.72361629e-01,\n",
       "       6.19729192e-01, 1.93962448e-01, 2.93445520e-01, 4.50246047e-01,\n",
       "       5.43340374e-01, 7.58005998e-01, 7.16406121e-01, 2.28206552e-01,\n",
       "       9.50717013e-03, 4.31934863e-01, 2.23838659e-02, 5.32842980e-01,\n",
       "       7.32786730e-02, 2.57312926e-01, 9.55642376e-01, 2.48557286e-01,\n",
       "       3.29887506e-01, 9.36308400e-01, 5.26155076e-01, 4.36040568e-01,\n",
       "       7.19611955e-01, 6.18662121e-01, 3.08295311e-02, 2.33376616e-01,\n",
       "       7.31473045e-01, 4.26073845e-01, 3.35328686e-01, 7.50734319e-01,\n",
       "       1.68154442e-01, 4.42431803e-01, 2.23443141e-01, 9.40469656e-01,\n",
       "       6.29279126e-01, 2.40985724e-03, 5.48595485e-01, 2.82105630e-01,\n",
       "       7.19371523e-01, 6.51258655e-01, 4.44461065e-01, 3.79727162e-02,\n",
       "       7.17473436e-01, 5.02843370e-01, 4.52825319e-01, 6.21651125e-01,\n",
       "       3.75604344e-01, 7.55657056e-01, 8.57017293e-01, 7.58648580e-01,\n",
       "       4.20016627e-01, 6.74723628e-01, 9.88382883e-01, 7.36440710e-01,\n",
       "       1.14674261e-01, 9.63898346e-01, 1.83462946e-01, 9.58331368e-01,\n",
       "       3.40345922e-01, 2.71610604e-01, 8.29252629e-01, 9.83388653e-01,\n",
       "       8.21909937e-01, 4.24438901e-01, 5.04696094e-02, 5.56159887e-01,\n",
       "       3.16561342e-01, 9.75209861e-01, 4.02001174e-01, 2.09964507e-01,\n",
       "       6.95299825e-01, 2.70004729e-01, 7.43145903e-01, 1.44939011e-01,\n",
       "       5.79814706e-01, 2.73060640e-01, 5.30176213e-01, 1.59511676e-01,\n",
       "       4.23718186e-01, 4.34881903e-01, 4.67615361e-01, 7.96146446e-01,\n",
       "       5.22580177e-02, 5.84097947e-01, 2.46382568e-01, 4.94439455e-01,\n",
       "       7.97759365e-01, 4.62878992e-01, 8.49174469e-01, 1.82084225e-02,\n",
       "       3.00669601e-02, 7.60353480e-01, 7.83183893e-01, 2.04299545e-01,\n",
       "       1.65417557e-01, 4.80332183e-01, 9.48230182e-01, 7.03502318e-01,\n",
       "       5.80629489e-01, 4.88755213e-01, 6.89515180e-01, 7.68149262e-01,\n",
       "       7.68426694e-01, 3.97395115e-01, 6.99251365e-01, 3.82690001e-01,\n",
       "       5.62222533e-01, 1.29955077e-01, 3.53932242e-01, 8.57047794e-01,\n",
       "       3.74177751e-01, 8.74640952e-01, 5.83304876e-01, 9.85672172e-01,\n",
       "       5.93240735e-01, 5.60651772e-01, 1.09152066e-01, 1.19686072e-01,\n",
       "       8.79586605e-01, 7.23913436e-01, 2.17465894e-02, 9.23692383e-01,\n",
       "       9.89943293e-01, 9.06017072e-01, 1.22899842e-01, 3.69696667e-01,\n",
       "       4.96677231e-01, 9.56779522e-01, 7.43194358e-01, 9.71619314e-01,\n",
       "       9.43026522e-01, 4.61760560e-01, 8.50345775e-01, 4.05461720e-02,\n",
       "       5.20738271e-01, 1.67024245e-01, 2.06982514e-01, 1.34919339e-01,\n",
       "       3.80881170e-01, 6.28476347e-01, 5.53032363e-01, 2.41127672e-03,\n",
       "       5.54615313e-01, 5.03055144e-01, 5.65021932e-01, 8.22647712e-01,\n",
       "       4.00046297e-01, 7.67915031e-01, 8.90452539e-01, 9.17704094e-01,\n",
       "       1.74268121e-01, 5.26766762e-01, 3.39163439e-01, 9.01759494e-01])"
      ]
     },
     "execution_count": 15,
     "metadata": {},
     "output_type": "execute_result"
    }
   ],
   "source": [
    "massive_array"
   ]
  },
  {
   "cell_type": "code",
   "execution_count": 16,
   "id": "a4a30f31-08a7-4820-b1df-261719d1a03e",
   "metadata": {},
   "outputs": [
    {
     "data": {
      "text/plain": [
       "array([0.90166297, 0.07737994, 0.41619459, 0.65651374, 0.58542566,\n",
       "       0.55054472, 0.53474583, 0.6563757 , 0.18581253, 0.66246425,\n",
       "       0.99324659, 0.90864356, 0.78105079, 0.32142893, 0.86227924,\n",
       "       0.42338898, 0.12276814, 0.64938511, 0.74497979, 0.51524245])"
      ]
     },
     "execution_count": 16,
     "metadata": {},
     "output_type": "execute_result"
    }
   ],
   "source": [
    "massive_array[:20]"
   ]
  },
  {
   "cell_type": "code",
   "execution_count": 17,
   "id": "a0390b32-e775-4199-a11b-2925c902909c",
   "metadata": {},
   "outputs": [
    {
     "name": "stdout",
     "output_type": "stream",
     "text": [
      "351 µs ± 3.99 µs per loop (mean ± std. dev. of 7 runs, 1,000 loops each)\n",
      "24.1 µs ± 160 ns per loop (mean ± std. dev. of 7 runs, 10,000 loops each)\n"
     ]
    }
   ],
   "source": [
    "%timeit sum(massive_array) #python method\n",
    "%timeit np.sum(massive_array) # Numpy method"
   ]
  },
  {
   "cell_type": "code",
   "execution_count": 18,
   "id": "fe6b61ec-7006-4946-bcb2-d78d1741febb",
   "metadata": {},
   "outputs": [
    {
     "data": {
      "text/plain": [
       "array([[1. , 2. , 3.4],\n",
       "       [4. , 5. , 6.5]])"
      ]
     },
     "execution_count": 18,
     "metadata": {},
     "output_type": "execute_result"
    }
   ],
   "source": [
    "a2"
   ]
  },
  {
   "cell_type": "code",
   "execution_count": 19,
   "id": "54400d7c-61be-4822-842f-84cae8109c1f",
   "metadata": {},
   "outputs": [
    {
     "data": {
      "text/plain": [
       "3.65"
      ]
     },
     "execution_count": 19,
     "metadata": {},
     "output_type": "execute_result"
    }
   ],
   "source": [
    "np.mean(a2)"
   ]
  },
  {
   "cell_type": "code",
   "execution_count": 20,
   "id": "0b1d068f-e4dd-4b7f-849a-1a3066348024",
   "metadata": {},
   "outputs": [
    {
     "data": {
      "text/plain": [
       "6.5"
      ]
     },
     "execution_count": 20,
     "metadata": {},
     "output_type": "execute_result"
    }
   ],
   "source": [
    "np.max(a2)"
   ]
  },
  {
   "cell_type": "code",
   "execution_count": 21,
   "id": "7cd49f4a-584c-4570-b09d-96ee17b29075",
   "metadata": {},
   "outputs": [
    {
     "data": {
      "text/plain": [
       "1.0"
      ]
     },
     "execution_count": 21,
     "metadata": {},
     "output_type": "execute_result"
    }
   ],
   "source": [
    "np.min(a2)"
   ]
  },
  {
   "cell_type": "code",
   "execution_count": 22,
   "id": "6431be51-dda3-4c9f-85a5-16c37435a9af",
   "metadata": {},
   "outputs": [
    {
     "data": {
      "text/plain": [
       "1.8200274723201295"
      ]
     },
     "execution_count": 22,
     "metadata": {},
     "output_type": "execute_result"
    }
   ],
   "source": [
    "# standard deviation\n",
    "np.std(a2)"
   ]
  },
  {
   "cell_type": "code",
   "execution_count": 23,
   "id": "9011fbee-911e-4d71-8105-9ab0f1763a0c",
   "metadata": {},
   "outputs": [
    {
     "data": {
      "text/plain": [
       "3.3125"
      ]
     },
     "execution_count": 23,
     "metadata": {},
     "output_type": "execute_result"
    }
   ],
   "source": [
    "#variance\n",
    "np.var(a2)"
   ]
  },
  {
   "cell_type": "code",
   "execution_count": 24,
   "id": "ecce61d0-b999-4a34-aa4e-b0b1554d9e72",
   "metadata": {},
   "outputs": [
    {
     "data": {
      "text/plain": [
       "1.8200274723201295"
      ]
     },
     "execution_count": 24,
     "metadata": {},
     "output_type": "execute_result"
    }
   ],
   "source": [
    "# standard deviation = square root of variance\n",
    "np.sqrt(np.var(a2))"
   ]
  },
  {
   "cell_type": "markdown",
   "id": "8a58daa1-9e4f-45c7-992b-7a8c014026e8",
   "metadata": {},
   "source": [
    "## Demo of standard deviation (STD) and variance(VAR)\n"
   ]
  },
  {
   "cell_type": "code",
   "execution_count": 11,
   "id": "5d0a094c-b23e-449a-9e57-5664dfaffa5c",
   "metadata": {},
   "outputs": [],
   "source": [
    "high_var_array = np.array([1,100,200,300,4000,5000])\n",
    "low_var_array = np.array([2,4,6,8,10])"
   ]
  },
  {
   "cell_type": "code",
   "execution_count": 12,
   "id": "c3b18d46-59ed-47a9-a7df-7afceaf87f08",
   "metadata": {},
   "outputs": [
    {
     "data": {
      "text/plain": [
       "(4296133.472222221, 8.0)"
      ]
     },
     "execution_count": 12,
     "metadata": {},
     "output_type": "execute_result"
    }
   ],
   "source": [
    "np.var(high_var_array), np.var(low_var_array)"
   ]
  },
  {
   "cell_type": "markdown",
   "id": "099b7dc8-6986-4c5d-9028-1a382f31e9a3",
   "metadata": {},
   "source": [
    "Variance:\n",
    "- Measure of the average degree to which each number is different from the mean.\n",
    "- Higher variance = wider range of numbers.\n",
    "- Lower variance = narrower range of numbers."
   ]
  },
  {
   "cell_type": "code",
   "execution_count": 13,
   "id": "9682272b-05e1-436c-ad7b-5022c3a53c08",
   "metadata": {},
   "outputs": [
    {
     "data": {
      "text/plain": [
       "(2072.711623024829, 2.8284271247461903)"
      ]
     },
     "execution_count": 13,
     "metadata": {},
     "output_type": "execute_result"
    }
   ],
   "source": [
    "np.std(high_var_array), np.std(low_var_array)"
   ]
  },
  {
   "cell_type": "markdown",
   "id": "dd9d7dff-2f45-4d77-8c9c-6ddc23eb86b3",
   "metadata": {},
   "source": [
    "Standard Deviation:\n",
    "- Measure of how spread out numbers are from the mean.\n",
    "- Standard deviation = sqrt(variance)"
   ]
  },
  {
   "cell_type": "code",
   "execution_count": 14,
   "id": "7c5a9197-2c24-4361-ab2e-823400c6e976",
   "metadata": {},
   "outputs": [
    {
     "data": {
      "text/plain": [
       "(1600.1666666666667, 6.0)"
      ]
     },
     "execution_count": 14,
     "metadata": {},
     "output_type": "execute_result"
    }
   ],
   "source": [
    "np.mean(high_var_array),np.mean(low_var_array)"
   ]
  },
  {
   "cell_type": "code",
   "execution_count": 15,
   "id": "c8ea8d10-7341-48d7-945f-3857838e23f6",
   "metadata": {},
   "outputs": [
    {
     "data": {
      "image/png": "[encoded data removed]",
      "text/plain": [
       "<Figure size 640x480 with 1 Axes>"
      ]
     },
     "metadata": {},
     "output_type": "display_data"
    }
   ],
   "source": [
    "%matplotlib inline\n",
    "import matplotlib.pyplot as plt\n",
    "plt.hist(high_var_array)\n",
    "plt.show()"
   ]
  },
  {
   "cell_type": "code",
   "execution_count": 16,
   "id": "d49b73a9-5b0e-40e0-bafb-d3a0e301e619",
   "metadata": {},
   "outputs": [
    {
     "data": {
      "image/png": "[encoded data removed]",
      "text/plain": [
       "<Figure size 640x480 with 1 Axes>"
      ]
     },
     "metadata": {},
     "output_type": "display_data"
    }
   ],
   "source": [
    "plt.hist(low_var_array)\n",
    "plt.show()"
   ]
  },
  {
   "cell_type": "markdown",
   "id": "d6e200a2-4731-46d0-9b89-e2e23b0d963b",
   "metadata": {},
   "source": [
    "## Reshaping and Trasposing"
   ]
  },
  {
   "cell_type": "code",
   "execution_count": 17,
   "id": "2c86ed26-3a18-4238-9c33-acf9dccb33ca",
   "metadata": {},
   "outputs": [
    {
     "data": {
      "text/plain": [
       "array([[1. , 2. , 3.4],\n",
       "       [4. , 5. , 6.5]])"
      ]
     },
     "execution_count": 17,
     "metadata": {},
     "output_type": "execute_result"
    }
   ],
   "source": [
    "a2"
   ]
  },
  {
   "cell_type": "code",
   "execution_count": 19,
   "id": "c3a82921-2458-45db-b3bb-6bc1424193a6",
   "metadata": {},
   "outputs": [
    {
     "data": {
      "text/plain": [
       "(2, 3)"
      ]
     },
     "execution_count": 19,
     "metadata": {},
     "output_type": "execute_result"
    }
   ],
   "source": [
    "a2.shape"
   ]
  },
  {
   "cell_type": "code",
   "execution_count": 20,
   "id": "973284be-5aa0-4bc0-9471-7ebe25770e4f",
   "metadata": {},
   "outputs": [
    {
     "data": {
      "text/plain": [
       "array([[[ 1,  2,  3],\n",
       "        [ 4,  5,  6],\n",
       "        [ 7,  8,  9]],\n",
       "\n",
       "       [[10, 11, 12],\n",
       "        [13, 14, 15],\n",
       "        [16, 17, 18]]])"
      ]
     },
     "execution_count": 20,
     "metadata": {},
     "output_type": "execute_result"
    }
   ],
   "source": [
    "a3"
   ]
  },
  {
   "cell_type": "code",
   "execution_count": 21,
   "id": "00678dc9-f2aa-483d-990b-901f133481a5",
   "metadata": {},
   "outputs": [
    {
     "data": {
      "text/plain": [
       "(2, 3, 3)"
      ]
     },
     "execution_count": 21,
     "metadata": {},
     "output_type": "execute_result"
    }
   ],
   "source": [
    "a3.shape"
   ]
  },
  {
   "cell_type": "code",
   "execution_count": 22,
   "id": "d125cd1e-0f6f-476d-b9ff-c5b02061d665",
   "metadata": {},
   "outputs": [
    {
     "ename": "ValueError",
     "evalue": "operands could not be broadcast together with shapes (2,3) (2,3,3) ",
     "output_type": "error",
     "traceback": [
      "\u001b[0;31m---------------------------------------------------------------------------\u001b[0m",
      "\u001b[0;31mValueError\u001b[0m                                Traceback (most recent call last)",
      "Cell \u001b[0;32mIn[22], line 1\u001b[0m\n\u001b[0;32m----> 1\u001b[0m a2 \u001b[38;5;241m*\u001b[39m a3\n",
      "\u001b[0;31mValueError\u001b[0m: operands could not be broadcast together with shapes (2,3) (2,3,3) "
     ]
    }
   ],
   "source": [
    "a2 * a3"
   ]
  },
  {
   "cell_type": "code",
   "execution_count": 23,
   "id": "3b033a80-1a63-4b6c-a32f-fc06c35082f9",
   "metadata": {},
   "outputs": [
    {
     "data": {
      "text/plain": [
       "(2, 3)"
      ]
     },
     "execution_count": 23,
     "metadata": {},
     "output_type": "execute_result"
    }
   ],
   "source": [
    "a2.shape"
   ]
  },
  {
   "cell_type": "code",
   "execution_count": 27,
   "id": "3347b6b9-1c58-457e-835f-e19e32ec1852",
   "metadata": {},
   "outputs": [
    {
     "data": {
      "text/plain": [
       "array([[[1. ],\n",
       "        [2. ],\n",
       "        [3.4]],\n",
       "\n",
       "       [[4. ],\n",
       "        [5. ],\n",
       "        [6.5]]])"
      ]
     },
     "execution_count": 27,
     "metadata": {},
     "output_type": "execute_result"
    }
   ],
   "source": [
    "#Reshape\n",
    "a2.reshape(2,3,1)"
   ]
  },
  {
   "cell_type": "code",
   "execution_count": 25,
   "id": "5ad1befe-0f7b-405e-8379-6d29a6b3cc42",
   "metadata": {},
   "outputs": [
    {
     "data": {
      "text/plain": [
       "array([[[1. ],\n",
       "        [2. ],\n",
       "        [3.4]],\n",
       "\n",
       "       [[4. ],\n",
       "        [5. ],\n",
       "        [6.5]]])"
      ]
     },
     "execution_count": 25,
     "metadata": {},
     "output_type": "execute_result"
    }
   ],
   "source": [
    "a2_reshape = a2.reshape(2,3,1)\n",
    "a2_reshape"
   ]
  },
  {
   "cell_type": "code",
   "execution_count": 26,
   "id": "89c37f42-f4d1-4d0f-959b-4f79d4865a6f",
   "metadata": {},
   "outputs": [
    {
     "data": {
      "text/plain": [
       "array([[[  1. ,   2. ,   3. ],\n",
       "        [  8. ,  10. ,  12. ],\n",
       "        [ 23.8,  27.2,  30.6]],\n",
       "\n",
       "       [[ 40. ,  44. ,  48. ],\n",
       "        [ 65. ,  70. ,  75. ],\n",
       "        [104. , 110.5, 117. ]]])"
      ]
     },
     "execution_count": 26,
     "metadata": {},
     "output_type": "execute_result"
    }
   ],
   "source": [
    "a2_reshape *a3"
   ]
  },
  {
   "cell_type": "code",
   "execution_count": 30,
   "id": "e457bc22-573b-4080-92df-9c6d48f476eb",
   "metadata": {},
   "outputs": [
    {
     "data": {
      "text/plain": [
       "array([[1. , 4. ],\n",
       "       [2. , 5. ],\n",
       "       [3.4, 6.5]])"
      ]
     },
     "execution_count": 30,
     "metadata": {},
     "output_type": "execute_result"
    }
   ],
   "source": [
    "# Transpose = switch the axis\n",
    "a2.T"
   ]
  },
  {
   "cell_type": "code",
   "execution_count": 29,
   "id": "88700341-7c7b-4412-bdc8-c3bf00f1b33b",
   "metadata": {},
   "outputs": [
    {
     "data": {
      "text/plain": [
       "array([[1. , 2. , 3.4],\n",
       "       [4. , 5. , 6.5]])"
      ]
     },
     "execution_count": 29,
     "metadata": {},
     "output_type": "execute_result"
    }
   ],
   "source": [
    "a2"
   ]
  },
  {
   "cell_type": "code",
   "execution_count": 31,
   "id": "d4f9e4b7-d3e1-477b-afed-03c66bcb3bb2",
   "metadata": {},
   "outputs": [
    {
     "data": {
      "text/plain": [
       "(3, 2)"
      ]
     },
     "execution_count": 31,
     "metadata": {},
     "output_type": "execute_result"
    }
   ],
   "source": [
    "a2_transpose = a2.T\n",
    "a2_transpose.shape"
   ]
  },
  {
   "cell_type": "code",
   "execution_count": 32,
   "id": "8edaefab-d4d6-42cb-988a-221fa4dc9048",
   "metadata": {},
   "outputs": [
    {
     "data": {
      "text/plain": [
       "(2, 3)"
      ]
     },
     "execution_count": 32,
     "metadata": {},
     "output_type": "execute_result"
    }
   ],
   "source": [
    "a2.shape"
   ]
  },
  {
   "cell_type": "markdown",
   "id": "619eb2b5-edf8-441f-b440-b3c21b5d18cf",
   "metadata": {},
   "source": [
    "## Dot Product"
   ]
  },
  {
   "cell_type": "code",
   "execution_count": 33,
   "id": "7c6fe0ca-5635-4ce7-971f-2b3721035f44",
   "metadata": {},
   "outputs": [],
   "source": [
    "np.random.seed(0)\n",
    "\n",
    "mat1= np.random.randint(10, size=(5,3))\n",
    "mat2= np.random.randint(10, size=(5,3))\n"
   ]
  },
  {
   "cell_type": "code",
   "execution_count": 34,
   "id": "ca985a66-e475-443e-871c-665137e143c5",
   "metadata": {},
   "outputs": [
    {
     "data": {
      "text/plain": [
       "(array([[5, 0, 3],\n",
       "        [3, 7, 9],\n",
       "        [3, 5, 2],\n",
       "        [4, 7, 6],\n",
       "        [8, 8, 1]]),\n",
       " array([[6, 7, 7],\n",
       "        [8, 1, 5],\n",
       "        [9, 8, 9],\n",
       "        [4, 3, 0],\n",
       "        [3, 5, 0]]))"
      ]
     },
     "execution_count": 34,
     "metadata": {},
     "output_type": "execute_result"
    }
   ],
   "source": [
    "mat1 ,mat2"
   ]
  },
  {
   "cell_type": "code",
   "execution_count": 35,
   "id": "a136fff5-4171-4bb8-bd0d-b4298a14dad5",
   "metadata": {},
   "outputs": [
    {
     "data": {
      "text/plain": [
       "array([[30,  0, 21],\n",
       "       [24,  7, 45],\n",
       "       [27, 40, 18],\n",
       "       [16, 21,  0],\n",
       "       [24, 40,  0]])"
      ]
     },
     "execution_count": 35,
     "metadata": {},
     "output_type": "execute_result"
    }
   ],
   "source": [
    "# Element-wise multiplication (hadamard product)\n",
    "mat1 *mat2"
   ]
  },
  {
   "cell_type": "code",
   "execution_count": 36,
   "id": "df9679aa-3f3a-4e1c-9746-646a0eab140d",
   "metadata": {},
   "outputs": [
    {
     "ename": "ValueError",
     "evalue": "shapes (5,3) and (5,3) not aligned: 3 (dim 1) != 5 (dim 0)",
     "output_type": "error",
     "traceback": [
      "\u001b[0;31m---------------------------------------------------------------------------\u001b[0m",
      "\u001b[0;31mValueError\u001b[0m                                Traceback (most recent call last)",
      "Cell \u001b[0;32mIn[36], line 2\u001b[0m\n\u001b[1;32m      1\u001b[0m \u001b[38;5;66;03m#Dot Product\u001b[39;00m\n\u001b[0;32m----> 2\u001b[0m np\u001b[38;5;241m.\u001b[39mdot(mat1,mat2)\n",
      "\u001b[0;31mValueError\u001b[0m: shapes (5,3) and (5,3) not aligned: 3 (dim 1) != 5 (dim 0)"
     ]
    }
   ],
   "source": [
    "#Dot Product\n",
    "np.dot(mat1,mat2)"
   ]
  },
  {
   "cell_type": "code",
   "execution_count": 38,
   "id": "ae732198-48b3-4b44-91c9-05f169462e81",
   "metadata": {},
   "outputs": [
    {
     "data": {
      "text/plain": [
       "array([[6, 8, 9, 4, 3],\n",
       "       [7, 1, 8, 3, 5],\n",
       "       [7, 5, 9, 0, 0]])"
      ]
     },
     "execution_count": 38,
     "metadata": {},
     "output_type": "execute_result"
    }
   ],
   "source": [
    "# TRANSPOSE MAT2\n",
    "mat2.T"
   ]
  },
  {
   "cell_type": "code",
   "execution_count": 39,
   "id": "1d73ee64-ecdf-4093-8b14-81c7575f4fd3",
   "metadata": {},
   "outputs": [
    {
     "data": {
      "text/plain": [
       "((5, 3), (3, 5))"
      ]
     },
     "execution_count": 39,
     "metadata": {},
     "output_type": "execute_result"
    }
   ],
   "source": [
    "mat1.shape , mat2.T.shape"
   ]
  },
  {
   "cell_type": "code",
   "execution_count": 41,
   "id": "1de057d2-8101-4ca7-86e1-328031f3fe71",
   "metadata": {},
   "outputs": [
    {
     "data": {
      "text/plain": [
       "array([[ 51,  55,  72,  20,  15],\n",
       "       [130,  76, 164,  33,  44],\n",
       "       [ 67,  39,  85,  27,  34],\n",
       "       [115,  69, 146,  37,  47],\n",
       "       [111,  77, 145,  56,  64]])"
      ]
     },
     "execution_count": 41,
     "metadata": {},
     "output_type": "execute_result"
    }
   ],
   "source": [
    "mat3 = np.dot(mat1,mat2.T)\n",
    "mat3"
   ]
  },
  {
   "cell_type": "code",
   "execution_count": 42,
   "id": "4b5bee62-4f20-4280-aacc-632d04f161e9",
   "metadata": {},
   "outputs": [
    {
     "data": {
      "text/plain": [
       "(5, 5)"
      ]
     },
     "execution_count": 42,
     "metadata": {},
     "output_type": "execute_result"
    }
   ],
   "source": [
    "mat3.shape"
   ]
  },
  {
   "cell_type": "markdown",
   "id": "4125f89c-0734-46cd-b6a4-c04b7364c519",
   "metadata": {},
   "source": [
    "## Dot product example (nutt butter sales)"
   ]
  },
  {
   "cell_type": "code",
   "execution_count": 45,
   "id": "d4745934-d17e-42a6-b98a-075e8621f33a",
   "metadata": {},
   "outputs": [
    {
     "data": {
      "text/plain": [
       "array([[12, 15,  0],\n",
       "       [ 3,  3,  7],\n",
       "       [ 9, 19, 18],\n",
       "       [ 4,  6, 12],\n",
       "       [ 1,  6,  7]])"
      ]
     },
     "execution_count": 45,
     "metadata": {},
     "output_type": "execute_result"
    }
   ],
   "source": [
    "np.random.seed(0)\n",
    "# number of jars sold\n",
    "sales_amount = np.random.randint(20,size=(5,3))\n",
    "sales_amount\n"
   ]
  },
  {
   "cell_type": "code",
   "execution_count": 51,
   "id": "6d8bd006-fb7f-44b7-a679-92d16b599b15",
   "metadata": {},
   "outputs": [
    {
     "data": {
      "text/html": [
       "<div>\n",
       "<style scoped>\n",
       "    .dataframe tbody tr th:only-of-type {\n",
       "        vertical-align: middle;\n",
       "    }\n",
       "\n",
       "    .dataframe tbody tr th {\n",
       "        vertical-align: top;\n",
       "    }\n",
       "\n",
       "    .dataframe thead th {\n",
       "        text-align: right;\n",
       "    }\n",
       "</style>\n",
       "<table border=\"1\" class=\"dataframe\">\n",
       "  <thead>\n",
       "    <tr style=\"text-align: right;\">\n",
       "      <th></th>\n",
       "      <th>Almond Butter</th>\n",
       "      <th>Peanut Butter</th>\n",
       "      <th>Cashew Butter</th>\n",
       "    </tr>\n",
       "  </thead>\n",
       "  <tbody>\n",
       "    <tr>\n",
       "      <th>Mon</th>\n",
       "      <td>12</td>\n",
       "      <td>15</td>\n",
       "      <td>0</td>\n",
       "    </tr>\n",
       "    <tr>\n",
       "      <th>Tue</th>\n",
       "      <td>3</td>\n",
       "      <td>3</td>\n",
       "      <td>7</td>\n",
       "    </tr>\n",
       "    <tr>\n",
       "      <th>Wed</th>\n",
       "      <td>9</td>\n",
       "      <td>19</td>\n",
       "      <td>18</td>\n",
       "    </tr>\n",
       "    <tr>\n",
       "      <th>Thu</th>\n",
       "      <td>4</td>\n",
       "      <td>6</td>\n",
       "      <td>12</td>\n",
       "    </tr>\n",
       "    <tr>\n",
       "      <th>Fri</th>\n",
       "      <td>1</td>\n",
       "      <td>6</td>\n",
       "      <td>7</td>\n",
       "    </tr>\n",
       "  </tbody>\n",
       "</table>\n",
       "</div>"
      ],
      "text/plain": [
       "     Almond Butter  Peanut Butter  Cashew Butter\n",
       "Mon             12             15              0\n",
       "Tue              3              3              7\n",
       "Wed              9             19             18\n",
       "Thu              4              6             12\n",
       "Fri              1              6              7"
      ]
     },
     "execution_count": 51,
     "metadata": {},
     "output_type": "execute_result"
    }
   ],
   "source": [
    "#Weekly sales\n",
    "weekly_sales = pd.DataFrame(sales_amount, index =[\"Mon\",\"Tue\",\"Wed\",\"Thu\",\"Fri\"],columns =[\"Almond Butter\",\"Peanut Butter\",\"Cashew Butter\"])\n",
    "weekly_sales"
   ]
  },
  {
   "cell_type": "code",
   "execution_count": 53,
   "id": "82117484-eec9-45d9-a6bf-f28fb4f7e6bc",
   "metadata": {},
   "outputs": [
    {
     "data": {
      "text/plain": [
       "array([10,  8, 12])"
      ]
     },
     "execution_count": 53,
     "metadata": {},
     "output_type": "execute_result"
    }
   ],
   "source": [
    "#Create Prices array\n",
    "prices = np.array([10,8,12])\n",
    "prices"
   ]
  },
  {
   "cell_type": "code",
   "execution_count": 55,
   "id": "38d03999-35c3-4d61-ba5c-d1a154e84c20",
   "metadata": {},
   "outputs": [
    {
     "ename": "ValueError",
     "evalue": "Shape of passed values is (3, 1), indices imply (1, 3)",
     "output_type": "error",
     "traceback": [
      "\u001b[0;31m---------------------------------------------------------------------------\u001b[0m",
      "\u001b[0;31mValueError\u001b[0m                                Traceback (most recent call last)",
      "Cell \u001b[0;32mIn[55], line 1\u001b[0m\n\u001b[0;32m----> 1\u001b[0m butter_prices \u001b[38;5;241m=\u001b[39m pd\u001b[38;5;241m.\u001b[39mDataFrame(prices,index\u001b[38;5;241m=\u001b[39m[\u001b[38;5;124m\"\u001b[39m\u001b[38;5;124mPrice\u001b[39m\u001b[38;5;124m\"\u001b[39m],columns \u001b[38;5;241m=\u001b[39m[\u001b[38;5;124m\"\u001b[39m\u001b[38;5;124mAlmond Butter\u001b[39m\u001b[38;5;124m\"\u001b[39m,\u001b[38;5;124m\"\u001b[39m\u001b[38;5;124mPeanut Butter\u001b[39m\u001b[38;5;124m\"\u001b[39m,\u001b[38;5;124m\"\u001b[39m\u001b[38;5;124mCashew Butter\u001b[39m\u001b[38;5;124m\"\u001b[39m])\n\u001b[1;32m      2\u001b[0m butter_prices\n",
      "File \u001b[0;32m~/machine_learning/sample_project/env/lib/python3.12/site-packages/pandas/core/frame.py:816\u001b[0m, in \u001b[0;36mDataFrame.__init__\u001b[0;34m(self, data, index, columns, dtype, copy)\u001b[0m\n\u001b[1;32m    805\u001b[0m         mgr \u001b[38;5;241m=\u001b[39m dict_to_mgr(\n\u001b[1;32m    806\u001b[0m             \u001b[38;5;66;03m# error: Item \"ndarray\" of \"Union[ndarray, Series, Index]\" has no\u001b[39;00m\n\u001b[1;32m    807\u001b[0m             \u001b[38;5;66;03m# attribute \"name\"\u001b[39;00m\n\u001b[0;32m   (...)\u001b[0m\n\u001b[1;32m    813\u001b[0m             copy\u001b[38;5;241m=\u001b[39m_copy,\n\u001b[1;32m    814\u001b[0m         )\n\u001b[1;32m    815\u001b[0m     \u001b[38;5;28;01melse\u001b[39;00m:\n\u001b[0;32m--> 816\u001b[0m         mgr \u001b[38;5;241m=\u001b[39m ndarray_to_mgr(\n\u001b[1;32m    817\u001b[0m             data,\n\u001b[1;32m    818\u001b[0m             index,\n\u001b[1;32m    819\u001b[0m             columns,\n\u001b[1;32m    820\u001b[0m             dtype\u001b[38;5;241m=\u001b[39mdtype,\n\u001b[1;32m    821\u001b[0m             copy\u001b[38;5;241m=\u001b[39mcopy,\n\u001b[1;32m    822\u001b[0m             typ\u001b[38;5;241m=\u001b[39mmanager,\n\u001b[1;32m    823\u001b[0m         )\n\u001b[1;32m    825\u001b[0m \u001b[38;5;66;03m# For data is list-like, or Iterable (will consume into list)\u001b[39;00m\n\u001b[1;32m    826\u001b[0m \u001b[38;5;28;01melif\u001b[39;00m is_list_like(data):\n",
      "File \u001b[0;32m~/machine_learning/sample_project/env/lib/python3.12/site-packages/pandas/core/internals/construction.py:336\u001b[0m, in \u001b[0;36mndarray_to_mgr\u001b[0;34m(values, index, columns, dtype, copy, typ)\u001b[0m\n\u001b[1;32m    331\u001b[0m \u001b[38;5;66;03m# _prep_ndarraylike ensures that values.ndim == 2 at this point\u001b[39;00m\n\u001b[1;32m    332\u001b[0m index, columns \u001b[38;5;241m=\u001b[39m _get_axes(\n\u001b[1;32m    333\u001b[0m     values\u001b[38;5;241m.\u001b[39mshape[\u001b[38;5;241m0\u001b[39m], values\u001b[38;5;241m.\u001b[39mshape[\u001b[38;5;241m1\u001b[39m], index\u001b[38;5;241m=\u001b[39mindex, columns\u001b[38;5;241m=\u001b[39mcolumns\n\u001b[1;32m    334\u001b[0m )\n\u001b[0;32m--> 336\u001b[0m _check_values_indices_shape_match(values, index, columns)\n\u001b[1;32m    338\u001b[0m \u001b[38;5;28;01mif\u001b[39;00m typ \u001b[38;5;241m==\u001b[39m \u001b[38;5;124m\"\u001b[39m\u001b[38;5;124marray\u001b[39m\u001b[38;5;124m\"\u001b[39m:\n\u001b[1;32m    339\u001b[0m     \u001b[38;5;28;01mif\u001b[39;00m \u001b[38;5;28missubclass\u001b[39m(values\u001b[38;5;241m.\u001b[39mdtype\u001b[38;5;241m.\u001b[39mtype, \u001b[38;5;28mstr\u001b[39m):\n",
      "File \u001b[0;32m~/machine_learning/sample_project/env/lib/python3.12/site-packages/pandas/core/internals/construction.py:420\u001b[0m, in \u001b[0;36m_check_values_indices_shape_match\u001b[0;34m(values, index, columns)\u001b[0m\n\u001b[1;32m    418\u001b[0m passed \u001b[38;5;241m=\u001b[39m values\u001b[38;5;241m.\u001b[39mshape\n\u001b[1;32m    419\u001b[0m implied \u001b[38;5;241m=\u001b[39m (\u001b[38;5;28mlen\u001b[39m(index), \u001b[38;5;28mlen\u001b[39m(columns))\n\u001b[0;32m--> 420\u001b[0m \u001b[38;5;28;01mraise\u001b[39;00m \u001b[38;5;167;01mValueError\u001b[39;00m(\u001b[38;5;124mf\u001b[39m\u001b[38;5;124m\"\u001b[39m\u001b[38;5;124mShape of passed values is \u001b[39m\u001b[38;5;132;01m{\u001b[39;00mpassed\u001b[38;5;132;01m}\u001b[39;00m\u001b[38;5;124m, indices imply \u001b[39m\u001b[38;5;132;01m{\u001b[39;00mimplied\u001b[38;5;132;01m}\u001b[39;00m\u001b[38;5;124m\"\u001b[39m)\n",
      "\u001b[0;31mValueError\u001b[0m: Shape of passed values is (3, 1), indices imply (1, 3)"
     ]
    }
   ],
   "source": [
    "butter_prices = pd.DataFrame(prices,index=[\"Price\"],columns =[\"Almond Butter\",\"Peanut Butter\",\"Cashew Butter\"])\n",
    "butter_prices"
   ]
  },
  {
   "cell_type": "code",
   "execution_count": 56,
   "id": "9b2ea12f-6821-45d2-9801-84557cc0f378",
   "metadata": {},
   "outputs": [
    {
     "data": {
      "text/html": [
       "<div>\n",
       "<style scoped>\n",
       "    .dataframe tbody tr th:only-of-type {\n",
       "        vertical-align: middle;\n",
       "    }\n",
       "\n",
       "    .dataframe tbody tr th {\n",
       "        vertical-align: top;\n",
       "    }\n",
       "\n",
       "    .dataframe thead th {\n",
       "        text-align: right;\n",
       "    }\n",
       "</style>\n",
       "<table border=\"1\" class=\"dataframe\">\n",
       "  <thead>\n",
       "    <tr style=\"text-align: right;\">\n",
       "      <th></th>\n",
       "      <th>Almond Butter</th>\n",
       "      <th>Peanut Butter</th>\n",
       "      <th>Cashew Butter</th>\n",
       "    </tr>\n",
       "  </thead>\n",
       "  <tbody>\n",
       "    <tr>\n",
       "      <th>Price</th>\n",
       "      <td>10</td>\n",
       "      <td>8</td>\n",
       "      <td>12</td>\n",
       "    </tr>\n",
       "  </tbody>\n",
       "</table>\n",
       "</div>"
      ],
      "text/plain": [
       "       Almond Butter  Peanut Butter  Cashew Butter\n",
       "Price             10              8             12"
      ]
     },
     "execution_count": 56,
     "metadata": {},
     "output_type": "execute_result"
    }
   ],
   "source": [
    "butter_prices = pd.DataFrame(prices.reshape(1,3),index=[\"Price\"],columns =[\"Almond Butter\",\"Peanut Butter\",\"Cashew Butter\"])\n",
    "butter_prices"
   ]
  },
  {
   "cell_type": "code",
   "execution_count": 57,
   "id": "fa1d9a34-b644-4b6a-b68f-46febd350a0c",
   "metadata": {},
   "outputs": [
    {
     "data": {
      "text/plain": [
       "array([240, 138, 458, 232, 142])"
      ]
     },
     "execution_count": 57,
     "metadata": {},
     "output_type": "execute_result"
    }
   ],
   "source": [
    "# Calculate the daily total sales \n",
    "# shapes are not aligned, we have to transpose\n",
    "total_sales = prices.dot(sales_amount.T)\n",
    "total_sales"
   ]
  },
  {
   "cell_type": "code",
   "execution_count": 59,
   "id": "0e9a248d-c83f-4fbd-8eaa-61f26777e038",
   "metadata": {},
   "outputs": [
    {
     "data": {
      "text/plain": [
       "array([240, 138, 458, 232, 142])"
      ]
     },
     "execution_count": 59,
     "metadata": {},
     "output_type": "execute_result"
    }
   ],
   "source": [
    "# Or like this\n",
    "total_sales_2 = np.dot(sales_amount,prices)\n",
    "total_sales_2"
   ]
  },
  {
   "cell_type": "code",
   "execution_count": 61,
   "id": "dc1b9cfd-ff37-4b6d-a9ad-176dd832955c",
   "metadata": {},
   "outputs": [
    {
     "data": {
      "text/plain": [
       "((1, 3), (5, 3))"
      ]
     },
     "execution_count": 61,
     "metadata": {},
     "output_type": "execute_result"
    }
   ],
   "source": [
    "# create daily sales\n",
    "\n",
    "butter_prices.shape , weekly_sales.shape"
   ]
  },
  {
   "cell_type": "code",
   "execution_count": 62,
   "id": "bf63716a-9878-4d40-9e06-8346af1d2b63",
   "metadata": {},
   "outputs": [
    {
     "data": {
      "text/html": [
       "<div>\n",
       "<style scoped>\n",
       "    .dataframe tbody tr th:only-of-type {\n",
       "        vertical-align: middle;\n",
       "    }\n",
       "\n",
       "    .dataframe tbody tr th {\n",
       "        vertical-align: top;\n",
       "    }\n",
       "\n",
       "    .dataframe thead th {\n",
       "        text-align: right;\n",
       "    }\n",
       "</style>\n",
       "<table border=\"1\" class=\"dataframe\">\n",
       "  <thead>\n",
       "    <tr style=\"text-align: right;\">\n",
       "      <th></th>\n",
       "      <th>Almond Butter</th>\n",
       "      <th>Peanut Butter</th>\n",
       "      <th>Cashew Butter</th>\n",
       "    </tr>\n",
       "  </thead>\n",
       "  <tbody>\n",
       "    <tr>\n",
       "      <th>Price</th>\n",
       "      <td>10</td>\n",
       "      <td>8</td>\n",
       "      <td>12</td>\n",
       "    </tr>\n",
       "  </tbody>\n",
       "</table>\n",
       "</div>"
      ],
      "text/plain": [
       "       Almond Butter  Peanut Butter  Cashew Butter\n",
       "Price             10              8             12"
      ]
     },
     "execution_count": 62,
     "metadata": {},
     "output_type": "execute_result"
    }
   ],
   "source": [
    "butter_prices"
   ]
  },
  {
   "cell_type": "code",
   "execution_count": 63,
   "id": "2f1992ab-347f-4c73-a931-098133105278",
   "metadata": {},
   "outputs": [
    {
     "data": {
      "text/html": [
       "<div>\n",
       "<style scoped>\n",
       "    .dataframe tbody tr th:only-of-type {\n",
       "        vertical-align: middle;\n",
       "    }\n",
       "\n",
       "    .dataframe tbody tr th {\n",
       "        vertical-align: top;\n",
       "    }\n",
       "\n",
       "    .dataframe thead th {\n",
       "        text-align: right;\n",
       "    }\n",
       "</style>\n",
       "<table border=\"1\" class=\"dataframe\">\n",
       "  <thead>\n",
       "    <tr style=\"text-align: right;\">\n",
       "      <th></th>\n",
       "      <th>Almond Butter</th>\n",
       "      <th>Peanut Butter</th>\n",
       "      <th>Cashew Butter</th>\n",
       "    </tr>\n",
       "  </thead>\n",
       "  <tbody>\n",
       "    <tr>\n",
       "      <th>Mon</th>\n",
       "      <td>12</td>\n",
       "      <td>15</td>\n",
       "      <td>0</td>\n",
       "    </tr>\n",
       "    <tr>\n",
       "      <th>Tue</th>\n",
       "      <td>3</td>\n",
       "      <td>3</td>\n",
       "      <td>7</td>\n",
       "    </tr>\n",
       "    <tr>\n",
       "      <th>Wed</th>\n",
       "      <td>9</td>\n",
       "      <td>19</td>\n",
       "      <td>18</td>\n",
       "    </tr>\n",
       "    <tr>\n",
       "      <th>Thu</th>\n",
       "      <td>4</td>\n",
       "      <td>6</td>\n",
       "      <td>12</td>\n",
       "    </tr>\n",
       "    <tr>\n",
       "      <th>Fri</th>\n",
       "      <td>1</td>\n",
       "      <td>6</td>\n",
       "      <td>7</td>\n",
       "    </tr>\n",
       "  </tbody>\n",
       "</table>\n",
       "</div>"
      ],
      "text/plain": [
       "     Almond Butter  Peanut Butter  Cashew Butter\n",
       "Mon             12             15              0\n",
       "Tue              3              3              7\n",
       "Wed              9             19             18\n",
       "Thu              4              6             12\n",
       "Fri              1              6              7"
      ]
     },
     "execution_count": 63,
     "metadata": {},
     "output_type": "execute_result"
    }
   ],
   "source": [
    "weekly_sales"
   ]
  },
  {
   "cell_type": "code",
   "execution_count": 64,
   "id": "2e3c5936-7c68-4a67-a38b-4eda0bf5d95b",
   "metadata": {},
   "outputs": [
    {
     "data": {
      "text/html": [
       "<div>\n",
       "<style scoped>\n",
       "    .dataframe tbody tr th:only-of-type {\n",
       "        vertical-align: middle;\n",
       "    }\n",
       "\n",
       "    .dataframe tbody tr th {\n",
       "        vertical-align: top;\n",
       "    }\n",
       "\n",
       "    .dataframe thead th {\n",
       "        text-align: right;\n",
       "    }\n",
       "</style>\n",
       "<table border=\"1\" class=\"dataframe\">\n",
       "  <thead>\n",
       "    <tr style=\"text-align: right;\">\n",
       "      <th></th>\n",
       "      <th>Mon</th>\n",
       "      <th>Tue</th>\n",
       "      <th>Wed</th>\n",
       "      <th>Thu</th>\n",
       "      <th>Fri</th>\n",
       "    </tr>\n",
       "  </thead>\n",
       "  <tbody>\n",
       "    <tr>\n",
       "      <th>Price</th>\n",
       "      <td>240</td>\n",
       "      <td>138</td>\n",
       "      <td>458</td>\n",
       "      <td>232</td>\n",
       "      <td>142</td>\n",
       "    </tr>\n",
       "  </tbody>\n",
       "</table>\n",
       "</div>"
      ],
      "text/plain": [
       "       Mon  Tue  Wed  Thu  Fri\n",
       "Price  240  138  458  232  142"
      ]
     },
     "execution_count": 64,
     "metadata": {},
     "output_type": "execute_result"
    }
   ],
   "source": [
    "daily_sales = butter_prices.dot(weekly_sales.T)\n",
    "daily_sales"
   ]
  },
  {
   "cell_type": "code",
   "execution_count": 67,
   "id": "5e6123cb-becd-44c3-803f-966f55731809",
   "metadata": {},
   "outputs": [
    {
     "data": {
      "text/plain": [
       "array([[240],\n",
       "       [138],\n",
       "       [458],\n",
       "       [232],\n",
       "       [142]])"
      ]
     },
     "execution_count": 67,
     "metadata": {},
     "output_type": "execute_result"
    }
   ],
   "source": [
    "daily_sales_2 = np.dot(weekly_sales,butter_prices.T)\n",
    "daily_sales_2"
   ]
  },
  {
   "cell_type": "code",
   "execution_count": 69,
   "id": "5ba4b431-e33a-45a2-98ae-17a38abfc0f5",
   "metadata": {},
   "outputs": [
    {
     "data": {
      "text/html": [
       "<div>\n",
       "<style scoped>\n",
       "    .dataframe tbody tr th:only-of-type {\n",
       "        vertical-align: middle;\n",
       "    }\n",
       "\n",
       "    .dataframe tbody tr th {\n",
       "        vertical-align: top;\n",
       "    }\n",
       "\n",
       "    .dataframe thead th {\n",
       "        text-align: right;\n",
       "    }\n",
       "</style>\n",
       "<table border=\"1\" class=\"dataframe\">\n",
       "  <thead>\n",
       "    <tr style=\"text-align: right;\">\n",
       "      <th></th>\n",
       "      <th>Almond Butter</th>\n",
       "      <th>Peanut Butter</th>\n",
       "      <th>Cashew Butter</th>\n",
       "      <th>Total ($)</th>\n",
       "    </tr>\n",
       "  </thead>\n",
       "  <tbody>\n",
       "    <tr>\n",
       "      <th>Mon</th>\n",
       "      <td>12</td>\n",
       "      <td>15</td>\n",
       "      <td>0</td>\n",
       "      <td>240</td>\n",
       "    </tr>\n",
       "    <tr>\n",
       "      <th>Tue</th>\n",
       "      <td>3</td>\n",
       "      <td>3</td>\n",
       "      <td>7</td>\n",
       "      <td>138</td>\n",
       "    </tr>\n",
       "    <tr>\n",
       "      <th>Wed</th>\n",
       "      <td>9</td>\n",
       "      <td>19</td>\n",
       "      <td>18</td>\n",
       "      <td>458</td>\n",
       "    </tr>\n",
       "    <tr>\n",
       "      <th>Thu</th>\n",
       "      <td>4</td>\n",
       "      <td>6</td>\n",
       "      <td>12</td>\n",
       "      <td>232</td>\n",
       "    </tr>\n",
       "    <tr>\n",
       "      <th>Fri</th>\n",
       "      <td>1</td>\n",
       "      <td>6</td>\n",
       "      <td>7</td>\n",
       "      <td>142</td>\n",
       "    </tr>\n",
       "  </tbody>\n",
       "</table>\n",
       "</div>"
      ],
      "text/plain": [
       "     Almond Butter  Peanut Butter  Cashew Butter  Total ($)\n",
       "Mon             12             15              0        240\n",
       "Tue              3              3              7        138\n",
       "Wed              9             19             18        458\n",
       "Thu              4              6             12        232\n",
       "Fri              1              6              7        142"
      ]
     },
     "execution_count": 69,
     "metadata": {},
     "output_type": "execute_result"
    }
   ],
   "source": [
    "weekly_sales[\"Total ($)\"] = daily_sales.T\n",
    "weekly_sales"
   ]
  },
  {
   "cell_type": "code",
   "execution_count": 71,
   "id": "6c229b7e-5283-4d31-b7c1-de2ed4e6bb8c",
   "metadata": {},
   "outputs": [
    {
     "data": {
      "text/html": [
       "<div>\n",
       "<style scoped>\n",
       "    .dataframe tbody tr th:only-of-type {\n",
       "        vertical-align: middle;\n",
       "    }\n",
       "\n",
       "    .dataframe tbody tr th {\n",
       "        vertical-align: top;\n",
       "    }\n",
       "\n",
       "    .dataframe thead th {\n",
       "        text-align: right;\n",
       "    }\n",
       "</style>\n",
       "<table border=\"1\" class=\"dataframe\">\n",
       "  <thead>\n",
       "    <tr style=\"text-align: right;\">\n",
       "      <th></th>\n",
       "      <th>Almond Butter</th>\n",
       "      <th>Peanut Butter</th>\n",
       "      <th>Cashew Butter</th>\n",
       "      <th>Total ($)</th>\n",
       "    </tr>\n",
       "  </thead>\n",
       "  <tbody>\n",
       "    <tr>\n",
       "      <th>Mon</th>\n",
       "      <td>12</td>\n",
       "      <td>15</td>\n",
       "      <td>0</td>\n",
       "      <td>240</td>\n",
       "    </tr>\n",
       "    <tr>\n",
       "      <th>Tue</th>\n",
       "      <td>3</td>\n",
       "      <td>3</td>\n",
       "      <td>7</td>\n",
       "      <td>138</td>\n",
       "    </tr>\n",
       "    <tr>\n",
       "      <th>Wed</th>\n",
       "      <td>9</td>\n",
       "      <td>19</td>\n",
       "      <td>18</td>\n",
       "      <td>458</td>\n",
       "    </tr>\n",
       "    <tr>\n",
       "      <th>Thu</th>\n",
       "      <td>4</td>\n",
       "      <td>6</td>\n",
       "      <td>12</td>\n",
       "      <td>232</td>\n",
       "    </tr>\n",
       "    <tr>\n",
       "      <th>Fri</th>\n",
       "      <td>1</td>\n",
       "      <td>6</td>\n",
       "      <td>7</td>\n",
       "      <td>142</td>\n",
       "    </tr>\n",
       "  </tbody>\n",
       "</table>\n",
       "</div>"
      ],
      "text/plain": [
       "     Almond Butter  Peanut Butter  Cashew Butter  Total ($)\n",
       "Mon             12             15              0        240\n",
       "Tue              3              3              7        138\n",
       "Wed              9             19             18        458\n",
       "Thu              4              6             12        232\n",
       "Fri              1              6              7        142"
      ]
     },
     "execution_count": 71,
     "metadata": {},
     "output_type": "execute_result"
    }
   ],
   "source": [
    "# Or \n",
    "weekly_sales[\"Total ($)\"] = daily_sales_2\n",
    "weekly_sales"
   ]
  },
  {
   "cell_type": "markdown",
   "id": "f42732d4-138b-4022-9a2d-c8bfbbd102f2",
   "metadata": {},
   "source": [
    "## Comparison Operators"
   ]
  },
  {
   "cell_type": "code",
   "execution_count": 23,
   "id": "524b5b89-c68f-4a85-99f0-0f1f25f0c18e",
   "metadata": {},
   "outputs": [
    {
     "data": {
      "text/plain": [
       "array([1, 2, 3])"
      ]
     },
     "execution_count": 23,
     "metadata": {},
     "output_type": "execute_result"
    }
   ],
   "source": [
    "a1"
   ]
  },
  {
   "cell_type": "code",
   "execution_count": 24,
   "id": "992446c3-1210-4f28-a4e2-78dd4b86b58a",
   "metadata": {},
   "outputs": [
    {
     "data": {
      "text/plain": [
       "array([[1. , 2. , 3.4],\n",
       "       [4. , 5. , 6.5]])"
      ]
     },
     "execution_count": 24,
     "metadata": {},
     "output_type": "execute_result"
    }
   ],
   "source": [
    "a2"
   ]
  },
  {
   "cell_type": "code",
   "execution_count": 26,
   "id": "666b8402-99db-4536-9ff3-f358d26b4d1b",
   "metadata": {},
   "outputs": [
    {
     "data": {
      "text/plain": [
       "array([[False, False, False],\n",
       "       [False, False, False]])"
      ]
     },
     "execution_count": 26,
     "metadata": {},
     "output_type": "execute_result"
    }
   ],
   "source": [
    "a1 > a2"
   ]
  },
  {
   "cell_type": "code",
   "execution_count": 30,
   "id": "80d17948-e4f7-438a-9e77-b55c3575a7af",
   "metadata": {},
   "outputs": [
    {
     "data": {
      "text/plain": [
       "array([[ True,  True, False],\n",
       "       [False, False, False]])"
      ]
     },
     "execution_count": 30,
     "metadata": {},
     "output_type": "execute_result"
    }
   ],
   "source": [
    "bool_array = a1 >= a2\n",
    "bool_array"
   ]
  },
  {
   "cell_type": "code",
   "execution_count": 31,
   "id": "47046f07-a675-4f10-8d0d-7fcae5115f18",
   "metadata": {},
   "outputs": [
    {
     "data": {
      "text/plain": [
       "dtype('bool')"
      ]
     },
     "execution_count": 31,
     "metadata": {},
     "output_type": "execute_result"
    }
   ],
   "source": [
    "bool_array.dtype"
   ]
  },
  {
   "cell_type": "code",
   "execution_count": 32,
   "id": "eaa2b7e7-d105-4c2a-9f46-1159c6145e03",
   "metadata": {},
   "outputs": [
    {
     "data": {
      "text/plain": [
       "array([False, False, False])"
      ]
     },
     "execution_count": 32,
     "metadata": {},
     "output_type": "execute_result"
    }
   ],
   "source": [
    "a1 > 5"
   ]
  },
  {
   "cell_type": "code",
   "execution_count": 33,
   "id": "c293e416-4abe-41f0-ac37-ee6976fefcbe",
   "metadata": {},
   "outputs": [
    {
     "data": {
      "text/plain": [
       "array([ True,  True,  True])"
      ]
     },
     "execution_count": 33,
     "metadata": {},
     "output_type": "execute_result"
    }
   ],
   "source": [
    "a1<5"
   ]
  },
  {
   "cell_type": "code",
   "execution_count": 34,
   "id": "86c92f70-b7e8-4ef3-b824-a46884e419bd",
   "metadata": {},
   "outputs": [
    {
     "data": {
      "text/plain": [
       "array([[ True,  True, False],\n",
       "       [False, False, False]])"
      ]
     },
     "execution_count": 34,
     "metadata": {},
     "output_type": "execute_result"
    }
   ],
   "source": [
    "a1 == a2"
   ]
  },
  {
   "cell_type": "markdown",
   "id": "648664c1-cfdc-4433-99a7-fc69313a2268",
   "metadata": {},
   "source": [
    "## Sorting Arrays"
   ]
  },
  {
   "cell_type": "code",
   "execution_count": 36,
   "id": "9be176d9-f0b8-4895-b110-f0c7aa8d0321",
   "metadata": {},
   "outputs": [
    {
     "data": {
      "text/plain": [
       "array([[9, 6, 2, 0, 1],\n",
       "       [6, 7, 2, 7, 5],\n",
       "       [4, 5, 3, 7, 6]])"
      ]
     },
     "execution_count": 36,
     "metadata": {},
     "output_type": "execute_result"
    }
   ],
   "source": [
    "random_array = np.random.randint(10,size=(3,5))\n",
    "random_array"
   ]
  },
  {
   "cell_type": "code",
   "execution_count": 37,
   "id": "9b538742-0135-42ab-b625-a1f83878efe0",
   "metadata": {},
   "outputs": [
    {
     "data": {
      "text/plain": [
       "array([[0, 1, 2, 6, 9],\n",
       "       [2, 5, 6, 7, 7],\n",
       "       [3, 4, 5, 6, 7]])"
      ]
     },
     "execution_count": 37,
     "metadata": {},
     "output_type": "execute_result"
    }
   ],
   "source": [
    "# sorting numbers on each axes\n",
    "np.sort(random_array)"
   ]
  },
  {
   "cell_type": "code",
   "execution_count": 40,
   "id": "fccc5647-5d4d-42c0-80bc-01a474326e14",
   "metadata": {},
   "outputs": [
    {
     "data": {
      "text/plain": [
       "array([[9, 6, 2, 0, 1],\n",
       "       [6, 7, 2, 7, 5],\n",
       "       [4, 5, 3, 7, 6]])"
      ]
     },
     "execution_count": 40,
     "metadata": {},
     "output_type": "execute_result"
    }
   ],
   "source": [
    "random_array"
   ]
  },
  {
   "cell_type": "code",
   "execution_count": 39,
   "id": "bef700ba-a9fb-4094-809b-70af28f540ca",
   "metadata": {},
   "outputs": [
    {
     "data": {
      "text/plain": [
       "array([[3, 4, 2, 1, 0],\n",
       "       [2, 4, 0, 1, 3],\n",
       "       [2, 0, 1, 4, 3]])"
      ]
     },
     "execution_count": 39,
     "metadata": {},
     "output_type": "execute_result"
    }
   ],
   "source": [
    "# sorting the indexes for us and telling us what order they would come in.\n",
    "np.argsort(random_array)"
   ]
  },
  {
   "cell_type": "code",
   "execution_count": 41,
   "id": "9fb8dea3-db4a-47cc-896a-896ee7e4ce20",
   "metadata": {},
   "outputs": [
    {
     "data": {
      "text/plain": [
       "array([1, 2, 3])"
      ]
     },
     "execution_count": 41,
     "metadata": {},
     "output_type": "execute_result"
    }
   ],
   "source": [
    "a1"
   ]
  },
  {
   "cell_type": "code",
   "execution_count": 42,
   "id": "0721e0d5-bbbf-4fdb-96d2-26fc3c7057f3",
   "metadata": {},
   "outputs": [
    {
     "data": {
      "text/plain": [
       "array([0, 1, 2])"
      ]
     },
     "execution_count": 42,
     "metadata": {},
     "output_type": "execute_result"
    }
   ],
   "source": [
    "np.argsort(a1)"
   ]
  },
  {
   "cell_type": "code",
   "execution_count": 43,
   "id": "282b4f22-8f53-4757-a8bb-474aa314dffd",
   "metadata": {},
   "outputs": [
    {
     "data": {
      "text/plain": [
       "0"
      ]
     },
     "execution_count": 43,
     "metadata": {},
     "output_type": "execute_result"
    }
   ],
   "source": [
    "#returns the index of the first occurrence of the minimum value.\n",
    "np.argmin(a1)"
   ]
  },
  {
   "cell_type": "code",
   "execution_count": 45,
   "id": "359e4911-697f-4050-a5c1-f89c120d4379",
   "metadata": {},
   "outputs": [
    {
     "data": {
      "text/plain": [
       "2"
      ]
     },
     "execution_count": 45,
     "metadata": {},
     "output_type": "execute_result"
    }
   ],
   "source": [
    "#returns the index of the first occurrence of the maximum value\n",
    "np.argmax(a1)"
   ]
  },
  {
   "cell_type": "code",
   "execution_count": 46,
   "id": "eba29167-c1f0-4281-b7bf-b22f38efe0ba",
   "metadata": {},
   "outputs": [
    {
     "data": {
      "text/plain": [
       "array([[9, 6, 2, 0, 1],\n",
       "       [6, 7, 2, 7, 5],\n",
       "       [4, 5, 3, 7, 6]])"
      ]
     },
     "execution_count": 46,
     "metadata": {},
     "output_type": "execute_result"
    }
   ],
   "source": [
    "random_array"
   ]
  },
  {
   "cell_type": "code",
   "execution_count": 47,
   "id": "809053c2-93cc-4368-9fca-fc5ad5ca54cb",
   "metadata": {},
   "outputs": [
    {
     "data": {
      "text/plain": [
       "0"
      ]
     },
     "execution_count": 47,
     "metadata": {},
     "output_type": "execute_result"
    }
   ],
   "source": [
    "np.argmax(random_array)"
   ]
  },
  {
   "cell_type": "code",
   "execution_count": 49,
   "id": "b84fe5a6-483e-421d-8fc3-35ca0ca78fad",
   "metadata": {},
   "outputs": [
    {
     "data": {
      "text/plain": [
       "array([0, 1, 2, 1, 2])"
      ]
     },
     "execution_count": 49,
     "metadata": {},
     "output_type": "execute_result"
    }
   ],
   "source": [
    "#Finding the index of the maximum value along an axis\n",
    "np.argmax(random_array,axis=0)"
   ]
  },
  {
   "cell_type": "code",
   "execution_count": 50,
   "id": "3ccbd456-87a8-4bb0-aed5-2c5d815341aa",
   "metadata": {},
   "outputs": [
    {
     "data": {
      "text/plain": [
       "array([0, 1, 3])"
      ]
     },
     "execution_count": 50,
     "metadata": {},
     "output_type": "execute_result"
    }
   ],
   "source": [
    "np.argmax(random_array,axis=1)"
   ]
  },
  {
   "cell_type": "markdown",
   "id": "b8bba70b-d88a-411a-98f9-3076c8fe5145",
   "metadata": {},
   "source": [
    "## Practical example -NUmPy Action"
   ]
  },
  {
   "cell_type": "code",
   "execution_count": 52,
   "id": "88fa6cb9-abba-4956-b5cd-b3ead72ccbe6",
   "metadata": {},
   "outputs": [
    {
     "ename": "SyntaxError",
     "evalue": "invalid syntax (2701874586.py, line 1)",
     "output_type": "error",
     "traceback": [
      "\u001b[0;36m  Cell \u001b[0;32mIn[52], line 1\u001b[0;36m\u001b[0m\n\u001b[0;31m    <img src=\"images/panda.png\"/>\u001b[0m\n\u001b[0m    ^\u001b[0m\n\u001b[0;31mSyntaxError\u001b[0m\u001b[0;31m:\u001b[0m invalid syntax\n"
     ]
    }
   ],
   "source": [
    "<img src=\"images/panda.png\"/>"
   ]
  },
  {
   "cell_type": "code",
   "execution_count": 53,
   "id": "55d3fa59-0a3a-41ff-91cb-62c39d590f7c",
   "metadata": {},
   "outputs": [
    {
     "name": "stdout",
     "output_type": "stream",
     "text": [
      "Requirement already satisfied: matplotlib in ./env/lib/python3.12/site-packages (3.8.4)\n",
      "Requirement already satisfied: pillow in ./env/lib/python3.12/site-packages (10.3.0)\n",
      "Requirement already satisfied: contourpy>=1.0.1 in ./env/lib/python3.12/site-packages (from matplotlib) (1.2.0)\n",
      "Requirement already satisfied: cycler>=0.10 in ./env/lib/python3.12/site-packages (from matplotlib) (0.11.0)\n",
      "Requirement already satisfied: fonttools>=4.22.0 in ./env/lib/python3.12/site-packages (from matplotlib) (4.51.0)\n",
      "Requirement already satisfied: kiwisolver>=1.3.1 in ./env/lib/python3.12/site-packages (from matplotlib) (1.4.4)\n",
      "Requirement already satisfied: numpy>=1.21 in ./env/lib/python3.12/site-packages (from matplotlib) (1.26.4)\n",
      "Requirement already satisfied: packaging>=20.0 in ./env/lib/python3.12/site-packages (from matplotlib) (23.2)\n",
      "Requirement already satisfied: pyparsing>=2.3.1 in ./env/lib/python3.12/site-packages (from matplotlib) (3.0.9)\n",
      "Requirement already satisfied: python-dateutil>=2.7 in ./env/lib/python3.12/site-packages (from matplotlib) (2.8.2)\n",
      "Requirement already satisfied: six>=1.5 in ./env/lib/python3.12/site-packages (from python-dateutil>=2.7->matplotlib) (1.16.0)\n",
      "Note: you may need to restart the kernel to use updated packages.\n"
     ]
    }
   ],
   "source": [
    "pip install matplotlib pillow\n"
   ]
  },
  {
   "cell_type": "code",
   "execution_count": null,
   "id": "ff091072-4df9-42ae-9da5-5bad08383e64",
   "metadata": {},
   "outputs": [],
   "source": [
    "import matplotlib.pyplot as plt\n",
    "from PIL import Image"
   ]
  }
 ],
 "metadata": {
  "kernelspec": {
   "display_name": "Python 3 (ipykernel)",
   "language": "python",
   "name": "python3"
  },
  "language_info": {
   "codemirror_mode": {
    "name": "ipython",
    "version": 3
   },
   "file_extension": ".py",
   "mimetype": "text/x-python",
   "name": "python",
   "nbconvert_exporter": "python",
   "pygments_lexer": "ipython3",
   "version": "3.12.3"
  }
 },
 "nbformat": 4,
 "nbformat_minor": 5
}
